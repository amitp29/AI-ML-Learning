{
 "cells": [
  {
   "cell_type": "code",
   "execution_count": 1,
   "metadata": {},
   "outputs": [],
   "source": [
    "#Ex 6. Create an article spinner in python that spins a given text article and\n",
    "#      compare the effectiveness with original text."
   ]
  },
  {
   "cell_type": "code",
   "execution_count": 8,
   "metadata": {},
   "outputs": [],
   "source": [
    "import nltk\n",
    "import random\n",
    "import numpy as np"
   ]
  },
  {
   "cell_type": "code",
   "execution_count": 18,
   "metadata": {},
   "outputs": [],
   "source": [
    "f = open('article.txt')"
   ]
  },
  {
   "cell_type": "code",
   "execution_count": 19,
   "metadata": {},
   "outputs": [],
   "source": [
    "input_data = f.read()"
   ]
  },
  {
   "cell_type": "code",
   "execution_count": 20,
   "metadata": {},
   "outputs": [
    {
     "name": "stdout",
     "output_type": "stream",
     "text": [
      " Engaging your visitors is vital to maintaining a long term website traffic. Modern search engines such as Google will monitor your traffic to make sure that visitors they are sending from their search results are staying for a long enough length of time as well as visiting multiple pages. Both of these metrics make a big difference as Google decides how to rank your site content. So, in other words, the visitor behavior the search engine observes will influence future rankings for your site, and the quality and quantity of your content will dictate visitor behavior.\n",
      "\n",
      "In the present world of cut-throat Internet marketing, you need all the help you get. So why not cut down on the time needed to create new unique content? This is probably the most time consuming part of your website building process.\n",
      "\n",
      "Save time writing content so you can promote your site or business in other ways. Use the time, money and energy you're saving to keep your site design looking as good as it can. Or you can use your free time to relax and unwind, it's up to you. Such is the beauty of this free if you are constantly updating with fresh textual content. The more unique, useful text you offer your visitors, the more people will stay on your site, and keep revisiting over the long haul. Offering your visitors an unlimited flow of fresh content is the best long term strategy for securing 'sticky' traffic to your website or blog. If you are focusing repeatedly on related subject matter (which you should be doing if you are focusing on a limited niche) then you would do well from an SEO perspective to cover a wide range of different ways to talk about that subject matter. \n"
     ]
    }
   ],
   "source": [
    "print input_data"
   ]
  },
  {
   "cell_type": "code",
   "execution_count": 21,
   "metadata": {},
   "outputs": [
    {
     "name": "stdout",
     "output_type": "stream",
     "text": [
      "[('get', 'so'), ('this', 'probably'), ('not', 'down'), ('that', 'matter'), (\"'sticky\", 'traffic'), ('time', 'part'), ('observes', 'influence'), ('are', 'on'), ('to', 'and'), ('why', 'cut'), ('will', 'your'), ('or', 'can'), ('looking', 'good'), ('such', 'the'), ('stay', 'your'), ('wide', 'of'), (',', 'visitor'), ('all', 'help'), ('such', 'google'), ('talk', 'that'), ('the', ','), ('will', 'on'), ('can', 'or'), ('quantity', 'your'), ('new', 'content'), ('is', 'to'), ('on', 'site'), ('help', 'get'), ('need', 'the'), ('traffic', 'modern'), ('you', 'all'), ('use', 'time'), ('needed', 'create'), ('cover', 'wide'), ('your', 'time'), ('should', 'doing'), ('long', '.'), ('use', 'free'), ('difference', 'google'), ('the', 'world'), ('search', 'observes'), ('so', 'in'), ('.', ','), ('the', 'needed'), ('you', 'be'), ('visitor', '.'), (\"'s\", 'to'), ('in', 'words'), ('is', 'beauty'), ('in', 'present'), ('this', 'if'), ('time', 'money'), ('most', 'consuming'), ('is', 'the'), ('you', 'constantly'), ('other', ','), ('subject', '('), ('that', 'they'), ('your', 'an'), ('how', 'rank'), ('updating', 'fresh'), ('engaging', 'visitors'), ('quality', 'quantity'), ('visitors', 'vital'), ('world', 'cut-throat'), (',', 'need'), ('part', 'your'), ('will', 'visitor'), ('you', 'such'), ('site', '.'), ('constantly', 'with'), ('of', 'metrics'), ('free', 'to'), ('your', ','), ('offer', 'visitors'), ('of', 'as'), ('their', 'results'), ('visiting', 'pages'), ('site', 'and'), ('ways', 'use'), ('business', 'other'), ('repeatedly', 'related'), ('perspective', 'cover'), ('content', 'this'), ('time', 'content'), ('so', 'not'), ('be', 'if'), ('more', 'will'), ('multiple', '.'), (',', 'keep'), ('with', 'textual'), ('a', 'range'), ('the', 'of'), ('term', 'traffic'), ('are', 'updating'), ('other', '.'), ('create', 'unique'), ('content', 'you'), ('search', 'such'), (',', 'text'), ('and', 'of'), ('will', 'future'), ('sure', 'visitors'), ('on', 'time'), ('offering', 'visitors'), ('and', 'quality'), ('for', \"'sticky\"), ('limited', ')'), ('to', 'your'), ('long', 'length'), ('in', 'ways'), ('your', 'building'), ('a', 'niche'), ('useful', 'you'), ('visitors', 'are'), ('both', 'these'), ('metrics', 'a'), ('make', 'big'), ('enough', 'of'), ('unwind', 'it'), ('if', 'are'), ('time', 'to'), ('your', 'content'), ('google', 'monitor'), ('fresh', 'is'), ('of', 'website'), ('term', 'for'), ('beauty', 'this'), ('you', 'do'), ('the', 'time'), (',', 'the'), ('to', 'website'), ('as', 'as'), ('decides', 'to'), ('can', 'your'), ('you', 'use'), ('traffic', 'your'), ('staying', 'a'), ('monitor', 'traffic'), ('more', ','), ('from', 'search'), ('.', 'your'), ('you', 'your'), (')', 'you'), ('vital', 'maintaining'), ('to', '.'), ('length', 'time'), ('consuming', 'of'), ('to', 'a'), ('best', 'term'), ('content', 'dictate'), ('about', 'subject'), ('?', 'is'), ('down', 'the'), ('visitors', 'unlimited'), ('.', 'of'), ('google', 'how'), ('doing', 'you'), ('the', 'people'), ('text', 'offer'), ('(', 'you'), (',', \"'s\"), ('results', 'staying'), ('revisiting', 'the'), ('saving', 'keep'), ('from', 'seo'), ('as', 'decides'), ('rank', 'site'), ('site', 'business'), ('ways', 'talk'), ('of', 'content'), ('over', 'long'), ('textual', '.'), ('on', 'subject'), ('writing', 'so'), ('time', 'well'), ('up', 'you'), ('they', 'sending'), ('on', 'limited'), ('modern', 'engines'), ('your', 'or'), ('a', 'difference'), ('behavior', 'search'), ('blog', 'if'), ('rankings', 'your'), ('so', 'can'), ('the', 'and'), ('words', 'the'), ('subject', '.'), ('traffic', 'make'), ('strategy', 'securing'), ('website', 'blog'), ('an', 'perspective'), ('.', 'you'), ('influence', 'rankings'), ('well', 'visiting'), ('well', 'an'), ('marketing', 'you'), ('you', 'promote'), ('and', 'you'), ('you', 'focusing'), ('search', 'are'), ('flow', 'fresh'), ('as', 'multiple'), ('site', 'looking'), ('or', '.'), ('money', 'energy'), ('pages', 'both'), ('keep', 'site'), ('to', 'new'), ('visitors', 'the'), ('would', 'well'), (\"'\", 'to'), ('promote', 'site'), ('it', 'up'), ('visitor', 'the'), ('of', 'free'), ('internet', ','), ('cut', 'on'), ('your', 'is'), ('these', 'make'), ('.', 'is'), ('a', 'term'), ('are', 'from'), ('engine', 'will'), ('the', 'unique'), ('content', 'so'), ('and', 'revisiting'), ('unique', 'useful'), ('focusing', 'a'), ('dictate', 'behavior'), ('the', 'haul'), ('fresh', 'content'), ('the', 'long'), ('for', 'site'), ('future', 'for'), ('good', 'it'), ('make', 'that'), ('present', 'of'), (\"'re\", 'to'), ('sending', 'their'), ('niche', 'then'), ('do', 'from'), ('haul', 'offering'), ('relax', 'unwind'), ('to', 'about'), ('is', 'best'), ('.', 'the'), ('probably', 'most'), ('your', 'to'), ('related', 'matter'), ('website', 'process'), ('building', '.'), ('range', 'different'), ('the', 'behavior'), ('energy', \"'re\"), ('keep', 'over'), ('of', 'internet'), ('people', 'stay'), ('.', 'why'), ('then', 'would'), ('different', 'to'), ('long', 'strategy'), ('are', 'for'), ('design', 'as'), ('are', 'repeatedly'), ('unlimited', 'of'), ('time', 'relax'), ('you', 'saving'), ('an', 'flow'), ('focusing', 'on'), ('and', ','), ('website', '.'), ('securing', \"'\"), ('save', 'writing'), ('of', 'ways'), ('which', 'should'), ('a', 'enough'), ('.', 'more'), ('as', 'will'), (',', 'and'), ('it', '.'), (',', 'other'), ('big', 'as'), ('the', 'you'), ('for', 'long'), ('you', '.'), ('free', 'you'), ('engines', 'as'), ('cut-throat', 'marketing'), ('.', 'search'), ('maintaining', 'long'), ('seo', 'to'), ('the', 'engine'), ('your', 'design'), ('to', 'sure'), ('unique', '?'), ('or', 'in'), ('long', 'website'), ('matter', 'which'), ('as', 'can'), (',', 'more'), ('your', 'will'), ('content', 'the')]\n"
     ]
    }
   ],
   "source": [
    "# extract trigrams and insert into dictionary\n",
    "# (w1, w3) is the key, [ w2 ] are the values\n",
    "#Create the dictionary\n",
    "input_data =  input_data.split('\\n')\n",
    "trigrams = {}\n",
    "for paragraph in input_data:\n",
    "    s = paragraph.lower()\n",
    "    tokens = nltk.tokenize.word_tokenize(s)\n",
    "    for i in range(len(tokens) - 2):\n",
    "        k = (tokens[i], tokens[i+2])\n",
    "        if k not in trigrams:\n",
    "            trigrams[k] = []\n",
    "        trigrams[k].append(tokens[i+1])\n",
    "\n",
    "print (trigrams) #(execute on command line)"
   ]
  },
  {
   "cell_type": "code",
   "execution_count": 22,
   "metadata": {},
   "outputs": [
    {
     "name": "stdout",
     "output_type": "stream",
     "text": [
      "{('your', 'or'): {}, ('to', 'your'): {}, ('to', 'a'): {}, ('can', 'your'): {}, ('of', 'content'): {}, ('your', ','): {}, ('as', 'as'): {}, ('.', 'you'): {}, ('content', 'the'): {}}\n"
     ]
    },
    {
     "data": {
      "text/plain": [
       "'  \\nd = {}\\nn = 0\\nfor w in words:\\n    if w not in d:\\n        d[w] = 0\\n    d[w] += 1\\n    n += 1\\n\\nfor w, c in d.items():\\n    d[w] = float(c) / n\\ntrigram_probabilities[k] = d'"
      ]
     },
     "execution_count": 22,
     "metadata": {},
     "output_type": "execute_result"
    }
   ],
   "source": [
    "trigram_probabilities = {}\n",
    "for k, words in trigrams.items():\n",
    "    # create a dictionary of word -> count\n",
    "    if len(set(words)) > 1:\n",
    "        d = {}\n",
    "        for w, c in d.items():\n",
    "            d[w] = float(c) / n\n",
    "        trigram_probabilities[k] = d\n",
    "        \n",
    "        \n",
    "print trigram_probabilities\n",
    "        \n",
    "    # only do this when there are different possibilities for a middle word\n",
    "        \n",
    "        \n",
    "'''  \n",
    "d = {}\n",
    "n = 0\n",
    "for w in words:\n",
    "    if w not in d:\n",
    "        d[w] = 0\n",
    "    d[w] += 1\n",
    "    n += 1\n",
    "\n",
    "for w, c in d.items():\n",
    "    d[w] = float(c) / n\n",
    "trigram_probabilities[k] = d'''\n"
   ]
  },
  {
   "cell_type": "code",
   "execution_count": 23,
   "metadata": {},
   "outputs": [
    {
     "name": "stdout",
     "output_type": "stream",
     "text": [
      "('Original:', ' engaging your visitors is vital to maintaining a long term website traffic. modern search engines such as google will monitor your traffic to make sure that visitors they are sending from their search results are staying for a long enough length of time as well as visiting multiple pages. both of these metrics make a big difference as google decides how to rank your site content. so, in other words, the visitor behavior the search engine observes will influence future rankings for your site, and the quality and quantity of your content will dictate visitor behavior.')\n",
      "tokens ['engaging', 'your', 'visitors', 'is', 'vital', 'to', 'maintaining', 'a', 'long', 'term', 'website', 'traffic', '.', 'modern', 'search', 'engines', 'such', 'as', 'google', 'will', 'monitor', 'your', 'traffic', 'to', 'make', 'sure', 'that', 'visitors', 'they', 'are', 'sending', 'from', 'their', 'search', 'results', 'are', 'staying', 'for', 'a', 'long', 'enough', 'length', 'of', 'time', 'as', 'well', 'as', 'visiting', 'multiple', 'pages', '.', 'both', 'of', 'these', 'metrics', 'make', 'a', 'big', 'difference', 'as', 'google', 'decides', 'how', 'to', 'rank', 'your', 'site', 'content', '.', 'so', ',', 'in', 'other', 'words', ',', 'the', 'visitor', 'behavior', 'the', 'search', 'engine', 'observes', 'will', 'influence', 'future', 'rankings', 'for', 'your', 'site', ',', 'and', 'the', 'quality', 'and', 'quantity', 'of', 'your', 'content', 'will', 'dictate', 'visitor', 'behavior', '.'] \n",
      "\n",
      "k..... ('engaging', 'visitors') \n",
      "\n",
      "k..... ('long', 'website') \n",
      "\n",
      "k..... ('term', 'traffic') \n",
      "\n",
      "k..... ('website', '.') \n",
      "\n",
      "k..... ('search', 'such') \n",
      "\n",
      "k..... ('sure', 'visitors') \n",
      "\n",
      "k..... ('that', 'they') \n",
      "\n",
      "k..... ('search', 'are') \n",
      "\n",
      "k..... ('for', 'long') \n",
      "\n",
      "k..... ('visiting', 'pages') \n",
      "\n",
      "k..... ('pages', 'both') \n",
      "\n",
      "k..... ('both', 'these') \n",
      "\n",
      "k..... ('of', 'metrics') \n",
      "\n",
      "k..... ('a', 'difference') \n",
      "\n",
      "k..... ('big', 'as') \n",
      "\n",
      "k..... ('your', 'content') \n",
      "\n",
      "k..... ('.', ',') \n",
      "\n",
      "k..... (',', 'other') \n",
      "\n",
      "k..... ('the', 'behavior') \n",
      "\n",
      "k..... ('behavior', 'search') \n",
      "\n",
      "k..... ('the', 'and') \n",
      "\n",
      "k..... ('content', 'dictate') \n",
      "\n",
      "k..... ('will', 'visitor') \n",
      "\n",
      "k..... ('visitor', '.') \n",
      "\n",
      "\n",
      " \n",
      " Spun:\n",
      "engaging your visitors is vital to maintaining a long term website traffic. modern search engines such as google will monitor your traffic to make sure that visitors they are sending from their search results are staying for a long enough length of time as well as visiting multiple pages. both of these metrics make a big difference as google decides how to rank your site content. so, in other words, the visitor behavior the search engine observes will influence future rankings for your site, and the quality and quantity of your content will dictate visitor behavior.\n"
     ]
    }
   ],
   "source": [
    "def random_sample(d):\n",
    "    # choose a random sample from dictionary where values are the probabilities\n",
    "    r = random.random()\n",
    "    cumulative = 0\n",
    "    for w, p in d.items():\n",
    "        cumulative += p\n",
    "        if r < cumulative:\n",
    "            return w\n",
    "\n",
    "\n",
    "def test_spinner():\n",
    "    paragraph = random.choice(input_data)\n",
    "    s = paragraph.lower()\n",
    "    print (\"Original:\", s)\n",
    "    tokens = nltk.tokenize.word_tokenize(s)\n",
    "    print 'tokens',tokens,'\\n'\n",
    "    for i in range(len(tokens) - 2):\n",
    "        if random.random() < 0.2: # 20% chance of replacement\n",
    "            k = (tokens[i], tokens[i+2])\n",
    "            print 'k.....',k,'\\n'\n",
    "            if k in trigram_probabilities:\n",
    "                w = random_sample(trigram_probabilities[k])\n",
    "                print 'w.....',w,'\\n'\n",
    "                tokens[i+1] = w\n",
    "    print (\"\\n \\n Spun:\")\n",
    "    print (\" \".join(tokens).replace(\" .\", \".\").replace(\" '\", \"'\").replace(\" ,\", \",\").replace(\"$ \", \"$\").replace(\" !\", \"!\"))\n",
    "\n",
    "test_spinner()"
   ]
  },
  {
   "cell_type": "code",
   "execution_count": null,
   "metadata": {},
   "outputs": [],
   "source": []
  },
  {
   "cell_type": "code",
   "execution_count": null,
   "metadata": {},
   "outputs": [],
   "source": [
    "'''\n",
    "REFERENCE CODE :-\n",
    "\n",
    "# anilkumar.ganesh@wipro.com\n",
    "#A simple article spinner in python using trigrams.\n",
    "\n",
    "import nltk\n",
    "import random\n",
    "import numpy as np\n",
    "\n",
    "#Need to import BeautifulSoup library to parse the html/xml file contents\n",
    "from bs4 import BeautifulSoup\n",
    "\n",
    "# load the positive reviews\n",
    "# data courtesy of http://www.cs.jhu.edu/~mdredze/datasets/sentiment/index2.html\n",
    "positive_reviews = BeautifulSoup(open('electronics/positive.review').read(), \"lxml\")\n",
    "positive_reviews = positive_reviews.findAll('review_text')\n",
    "\n",
    "# extract trigrams and insert into dictionary\n",
    "# (w1, w3) is the key, [ w2 ] are the values\n",
    "#Create the dictionary\n",
    "trigrams = {}\n",
    "for review in positive_reviews:\n",
    "    s = review.text.lower()\n",
    "    tokens = nltk.tokenize.word_tokenize(s)\n",
    "    for i in range(len(tokens) - 2):\n",
    "        k = (tokens[i], tokens[i+2])\n",
    "        if k not in trigrams:\n",
    "            trigrams[k] = []\n",
    "        trigrams[k].append(tokens[i+1])\n",
    "\n",
    "#print (trigrams) #(execute on command line)\n",
    "\n",
    "#trigrams (execute on command line to check the trigrams on ipython command line)\n",
    "# turn each array of middle-words into a probability vector\n",
    "trigram_probabilities = {}\n",
    "for k, words in trigrams.items():\n",
    "    # create a dictionary of word -> count\n",
    "    if len(set(words)) > 1:\n",
    "        # only do this when there are different possibilities for a middle word\n",
    "        d = {}\n",
    "        n = 0\n",
    "        for w in words:\n",
    "            if w not in d:\n",
    "                d[w] = 0\n",
    "            d[w] += 1\n",
    "            n += 1\n",
    "        for w, c in d.items():\n",
    "            d[w] = float(c) / n\n",
    "        trigram_probabilities[k] = d\n",
    "\n",
    "#print (trigram_probabilities) #(execute on command line)\n",
    "\n",
    "def random_sample(d):\n",
    "    # choose a random sample from dictionary where values are the probabilities\n",
    "    r = random.random()\n",
    "    cumulative = 0\n",
    "    for w, p in d.items():\n",
    "        cumulative += p\n",
    "        if r < cumulative:\n",
    "            return w\n",
    "\n",
    "\n",
    "def test_spinner():\n",
    "    review = random.choice(positive_reviews)\n",
    "    s = review.text.lower()\n",
    "    print (\"Original:\", s)\n",
    "    tokens = nltk.tokenize.word_tokenize(s)\n",
    "    for i in range(len(tokens) - 2):\n",
    "        if random.random() < 0.2: # 20% chance of replacement\n",
    "            k = (tokens[i], tokens[i+2])\n",
    "            if k in trigram_probabilities:\n",
    "                w = random_sample(trigram_probabilities[k])\n",
    "                tokens[i+1] = w\n",
    "    print (\"Spun:\")\n",
    "    print (\" \".join(tokens).replace(\" .\", \".\").replace(\" '\", \"'\").replace(\" ,\", \",\").replace(\"$ \", \"$\").replace(\" !\", \"!\"))\n",
    "\n",
    "test_spinner()\n",
    "\n",
    "'''"
   ]
  }
 ],
 "metadata": {
  "kernelspec": {
   "display_name": "Python 2",
   "language": "python",
   "name": "python2"
  },
  "language_info": {
   "codemirror_mode": {
    "name": "ipython",
    "version": 2
   },
   "file_extension": ".py",
   "mimetype": "text/x-python",
   "name": "python",
   "nbconvert_exporter": "python",
   "pygments_lexer": "ipython2",
   "version": "2.7.11"
  }
 },
 "nbformat": 4,
 "nbformat_minor": 2
}
