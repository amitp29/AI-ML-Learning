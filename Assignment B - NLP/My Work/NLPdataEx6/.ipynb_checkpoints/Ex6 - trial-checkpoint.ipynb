{
 "cells": [
  {
   "cell_type": "code",
   "execution_count": 1,
   "metadata": {},
   "outputs": [],
   "source": [
    "#Ex 6. Create an article spinner in python that spins a given text article and\n",
    "#      compare the effectiveness with original text."
   ]
  },
  {
   "cell_type": "code",
   "execution_count": 6,
   "metadata": {},
   "outputs": [],
   "source": [
    "import nltk\n",
    "import random\n",
    "import numpy as np"
   ]
  },
  {
   "cell_type": "code",
   "execution_count": 3,
   "metadata": {},
   "outputs": [],
   "source": [
    "f = open('article.txt')"
   ]
  },
  {
   "cell_type": "code",
   "execution_count": 4,
   "metadata": {},
   "outputs": [],
   "source": [
    "input_data = f.read()"
   ]
  },
  {
   "cell_type": "code",
   "execution_count": 5,
   "metadata": {},
   "outputs": [
    {
     "name": "stdout",
     "output_type": "stream",
     "text": [
      " Engaging your visitors is vital to maintaining a long term website traffic. Modern search engines such as Google will monitor your traffic to make sure that visitors they are sending from their search results are staying for a long enough length of time as well as visiting multiple pages. Both of these metrics make a big difference as Google decides how to rank your site content. So, in other words, the visitor behavior the search engine observes will influence future rankings for your site, and the quality and quantity of your content will dictate visitor behavior.\n",
      "\n",
      "In the present world of cut-throat Internet marketing, you need all the help you get. So why not cut down on the time needed to create new unique content? This is probably the most time consuming part of your website building process.\n",
      "\n",
      "Save time writing content so you can promote your site or business in other ways. Use the time, money and energy you're saving to keep your site design looking as good as it can. Or you can use your free time to relax and unwind, it's up to you. Such is the beauty of this free if you are constantly updating with fresh textual content. The more unique, useful text you offer your visitors, the more people will stay on your site, and keep revisiting over the long haul. Offering your visitors an unlimited flow of fresh content is the best long term strategy for securing 'sticky' traffic to your website or blog. If you are focusing repeatedly on related subject matter (which you should be doing if you are focusing on a limited niche) then you would do well from an SEO perspective to cover a wide range of different ways to talk about that subject matter. \n"
     ]
    }
   ],
   "source": [
    "print input_data"
   ]
  },
  {
   "cell_type": "code",
   "execution_count": null,
   "metadata": {},
   "outputs": [],
   "source": []
  },
  {
   "cell_type": "code",
   "execution_count": null,
   "metadata": {},
   "outputs": [],
   "source": []
  },
  {
   "cell_type": "code",
   "execution_count": null,
   "metadata": {},
   "outputs": [],
   "source": []
  },
  {
   "cell_type": "code",
   "execution_count": null,
   "metadata": {},
   "outputs": [],
   "source": []
  },
  {
   "cell_type": "code",
   "execution_count": null,
   "metadata": {},
   "outputs": [],
   "source": [
    "'''\n",
    "REFERENCE CODE :-\n",
    "\n",
    "# anilkumar.ganesh@wipro.com\n",
    "#A simple article spinner in python using trigrams.\n",
    "\n",
    "import nltk\n",
    "import random\n",
    "import numpy as np\n",
    "\n",
    "#Need to import BeautifulSoup library to parse the html/xml file contents\n",
    "from bs4 import BeautifulSoup\n",
    "\n",
    "# load the positive reviews\n",
    "# data courtesy of http://www.cs.jhu.edu/~mdredze/datasets/sentiment/index2.html\n",
    "positive_reviews = BeautifulSoup(open('electronics/positive.review').read(), \"lxml\")\n",
    "positive_reviews = positive_reviews.findAll('review_text')\n",
    "\n",
    "# extract trigrams and insert into dictionary\n",
    "# (w1, w3) is the key, [ w2 ] are the values\n",
    "#Create the dictionary\n",
    "trigrams = {}\n",
    "for review in positive_reviews:\n",
    "    s = review.text.lower()\n",
    "    tokens = nltk.tokenize.word_tokenize(s)\n",
    "    for i in range(len(tokens) - 2):\n",
    "        k = (tokens[i], tokens[i+2])\n",
    "        if k not in trigrams:\n",
    "            trigrams[k] = []\n",
    "        trigrams[k].append(tokens[i+1])\n",
    "\n",
    "#print (trigrams) #(execute on command line)\n",
    "\n",
    "#trigrams (execute on command line to check the trigrams on ipython command line)\n",
    "# turn each array of middle-words into a probability vector\n",
    "trigram_probabilities = {}\n",
    "for k, words in trigrams.items():\n",
    "    # create a dictionary of word -> count\n",
    "    if len(set(words)) > 1:\n",
    "        # only do this when there are different possibilities for a middle word\n",
    "        d = {}\n",
    "        n = 0\n",
    "        for w in words:\n",
    "            if w not in d:\n",
    "                d[w] = 0\n",
    "            d[w] += 1\n",
    "            n += 1\n",
    "        for w, c in d.items():\n",
    "            d[w] = float(c) / n\n",
    "        trigram_probabilities[k] = d\n",
    "\n",
    "#print (trigram_probabilities) #(execute on command line)\n",
    "\n",
    "def random_sample(d):\n",
    "    # choose a random sample from dictionary where values are the probabilities\n",
    "    r = random.random()\n",
    "    cumulative = 0\n",
    "    for w, p in d.items():\n",
    "        cumulative += p\n",
    "        if r < cumulative:\n",
    "            return w\n",
    "\n",
    "\n",
    "def test_spinner():\n",
    "    review = random.choice(positive_reviews)\n",
    "    s = review.text.lower()\n",
    "    print (\"Original:\", s)\n",
    "    tokens = nltk.tokenize.word_tokenize(s)\n",
    "    for i in range(len(tokens) - 2):\n",
    "        if random.random() < 0.2: # 20% chance of replacement\n",
    "            k = (tokens[i], tokens[i+2])\n",
    "            if k in trigram_probabilities:\n",
    "                w = random_sample(trigram_probabilities[k])\n",
    "                tokens[i+1] = w\n",
    "    print (\"Spun:\")\n",
    "    print (\" \".join(tokens).replace(\" .\", \".\").replace(\" '\", \"'\").replace(\" ,\", \",\").replace(\"$ \", \"$\").replace(\" !\", \"!\"))\n",
    "\n",
    "test_spinner()\n",
    "\n",
    "'''"
   ]
  }
 ],
 "metadata": {
  "kernelspec": {
   "display_name": "Python 2",
   "language": "python",
   "name": "python2"
  },
  "language_info": {
   "codemirror_mode": {
    "name": "ipython",
    "version": 2
   },
   "file_extension": ".py",
   "mimetype": "text/x-python",
   "name": "python",
   "nbconvert_exporter": "python",
   "pygments_lexer": "ipython2",
   "version": "2.7.11"
  }
 },
 "nbformat": 4,
 "nbformat_minor": 2
}
