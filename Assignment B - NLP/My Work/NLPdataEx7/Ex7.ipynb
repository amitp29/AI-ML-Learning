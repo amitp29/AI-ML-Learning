{
 "cells": [
  {
   "cell_type": "code",
   "execution_count": 24,
   "metadata": {},
   "outputs": [],
   "source": [
    "import sklearn\n",
    "import string\n",
    "from nltk.corpus import stopwords\n",
    "\n",
    "# Import all of the scikit learn stuff\n",
    "from __future__ import print_function\n",
    "from sklearn.decomposition import TruncatedSVD\n",
    "from sklearn.feature_extraction.text import TfidfVectorizer\n",
    "from sklearn.feature_extraction.text import CountVectorizer\n",
    "from sklearn.preprocessing import Normalizer\n",
    "from sklearn import metrics\n",
    "from sklearn.cluster import KMeans, MiniBatchKMeans\n",
    "import pandas as pd\n",
    "import warnings"
   ]
  },
  {
   "cell_type": "code",
   "execution_count": 8,
   "metadata": {},
   "outputs": [],
   "source": [
    "# Suppress warnings from pandas library\n",
    "warnings.filterwarnings(\"ignore\", category=DeprecationWarning, module=\"pandas\", lineno=570)\n",
    "\n",
    "import numpy\n",
    "import numpy as np"
   ]
  },
  {
   "cell_type": "code",
   "execution_count": 9,
   "metadata": {},
   "outputs": [],
   "source": [
    "f = open('doc1.txt')"
   ]
  },
  {
   "cell_type": "code",
   "execution_count": 10,
   "metadata": {},
   "outputs": [
    {
     "name": "stdout",
     "output_type": "stream",
     "text": [
      "For all the dangers football poses to its players, the sport still represents hope to thousands of young men. Judd Ehrlich's persuasive but slight documentary \"We Could Be King\" movingly argues for the necessity of high-school athletics, especially in low-income communities, where pigskin is a key tool educators have in encouraging would-be dropouts to stay in school. After the Philadelphia school board closes 37 schools and merges Martin Luther King High with its Germantown rivals, heroic Ed Dunn oversees the union of the two football teams.\n"
     ]
    }
   ],
   "source": [
    "input_1 = f.read()\n",
    "print (input_1)\n"
   ]
  },
  {
   "cell_type": "code",
   "execution_count": null,
   "metadata": {},
   "outputs": [],
   "source": [
    "input_list = []\n",
    "input_list.append(input_1)\n",
    "print (input_list)"
   ]
  },
  {
   "cell_type": "code",
   "execution_count": 11,
   "metadata": {},
   "outputs": [
    {
     "name": "stdout",
     "output_type": "stream",
     "text": [
      "C:\\Users\\sujata\\AppData\\Local\\Temp\\NLPdataEX7_doc2.txt NLPdataEX7_doc2.txt^C:\\Users\\sujata\\Desktop\\AI-AppDeveloperFS-ML&NLP-assignmentdata\\NLPdataEx7\\NLPdataEX7_doc2.txt\n",
      "['For all the dangers football poses to its players, the sport still represents hope to thousands of young men. Judd Ehrlich\\'s persuasive but slight documentary \"We Could Be King\" movingly argues for the necessity of high-school athletics, especially in low-income communities, where pigskin is a key tool educators have in encouraging would-be dropouts to stay in school. After the Philadelphia school board closes 37 schools and merges Martin Luther King High with its Germantown rivals, heroic Ed Dunn oversees the union of the two football teams.', 'C:\\\\Users\\\\sujata\\\\AppData\\\\Local\\\\Temp\\\\NLPdataEX7_doc2.txt NLPdataEX7_doc2.txt^C:\\\\Users\\\\sujata\\\\Desktop\\\\AI-AppDeveloperFS-ML&NLP-assignmentdata\\\\NLPdataEx7\\\\NLPdataEX7_doc2.txt']\n"
     ]
    }
   ],
   "source": [
    "f = open('doc2.txt')\n",
    "input_2 = f.read()\n",
    "print (input_2)\n",
    "input_list.append(input_2)\n",
    "print (input_list)"
   ]
  },
  {
   "cell_type": "code",
   "execution_count": 12,
   "metadata": {},
   "outputs": [
    {
     "name": "stdout",
     "output_type": "stream",
     "text": [
      "['For all the dangers football poses to its players, the sport still represents hope to thousands of young men. Judd Ehrlich\\'s persuasive but slight documentary \"We Could Be King\" movingly argues for the necessity of high-school athletics, especially in low-income communities, where pigskin is a key tool educators have in encouraging would-be dropouts to stay in school. After the Philadelphia school board closes 37 schools and merges Martin Luther King High with its Germantown rivals, heroic Ed Dunn oversees the union of the two football teams.', 'C:\\\\Users\\\\sujata\\\\AppData\\\\Local\\\\Temp\\\\NLPdataEX7_doc2.txt NLPdataEX7_doc2.txt^C:\\\\Users\\\\sujata\\\\Desktop\\\\AI-AppDeveloperFS-ML&NLP-assignmentdata\\\\NLPdataEx7\\\\NLPdataEX7_doc2.txt', \"College football recruiters have their GPS devices powered on as they begin visiting high schools to evaluate players over the next month. Let me provide a few suggestions on players who have been overlooked so far. Maybe they don't fit a height-weight requirement. Maybe they were injured last season. Maybe they don't participate in seven-on-seven all-star passing tournaments. Maybe they play multiple sports. Whatever the reason for not receiving early buzz, these players will be standouts in the fall, and it's far more relevant how someone performs in a real game compared with how they look running around a red cone.\"]\n"
     ]
    }
   ],
   "source": [
    "f = open('doc3.txt')\n",
    "input_3 = f.read()\n",
    "input_list.append(input_3)\n",
    "print (input_list)"
   ]
  },
  {
   "cell_type": "code",
   "execution_count": 13,
   "metadata": {},
   "outputs": [
    {
     "data": {
      "text/plain": [
       "['For all the dangers football poses to its players, the sport still represents hope to thousands of young men. Judd Ehrlich\\'s persuasive but slight documentary \"We Could Be King\" movingly argues for the necessity of high-school athletics, especially in low-income communities, where pigskin is a key tool educators have in encouraging would-be dropouts to stay in school. After the Philadelphia school board closes 37 schools and merges Martin Luther King High with its Germantown rivals, heroic Ed Dunn oversees the union of the two football teams.',\n",
       " 'C:\\\\Users\\\\sujata\\\\AppData\\\\Local\\\\Temp\\\\NLPdataEX7_doc2.txt NLPdataEX7_doc2.txt^C:\\\\Users\\\\sujata\\\\Desktop\\\\AI-AppDeveloperFS-ML&NLP-assignmentdata\\\\NLPdataEx7\\\\NLPdataEX7_doc2.txt',\n",
       " \"College football recruiters have their GPS devices powered on as they begin visiting high schools to evaluate players over the next month. Let me provide a few suggestions on players who have been overlooked so far. Maybe they don't fit a height-weight requirement. Maybe they were injured last season. Maybe they don't participate in seven-on-seven all-star passing tournaments. Maybe they play multiple sports. Whatever the reason for not receiving early buzz, these players will be standouts in the fall, and it's far more relevant how someone performs in a real game compared with how they look running around a red cone.\"]"
      ]
     },
     "execution_count": 13,
     "metadata": {},
     "output_type": "execute_result"
    }
   ],
   "source": [
    "input_list"
   ]
  },
  {
   "cell_type": "code",
   "execution_count": 14,
   "metadata": {},
   "outputs": [
    {
     "name": "stdout",
     "output_type": "stream",
     "text": [
      "['For all the dangers football poses to its players, the sport still represents hope to thousands of young men. Judd Ehrlich\\'s persuasive but slight documentary \"We Could Be King\" movingly argues for the necessity of high-school athletics, especially in low-income communities, where pigskin is a key tool educators have in encouraging would-be dropouts to stay in school. After the Philadelphia school board closes 37 schools and merges Martin Luther King High with its Germantown rivals, heroic Ed Dunn oversees the union of the two football teams.', 'C:\\\\Users\\\\sujata\\\\AppData\\\\Local\\\\Temp\\\\NLPdataEX7_doc2.txt NLPdataEX7_doc2.txt^C:\\\\Users\\\\sujata\\\\Desktop\\\\AI-AppDeveloperFS-ML&NLP-assignmentdata\\\\NLPdataEx7\\\\NLPdataEX7_doc2.txt', \"College football recruiters have their GPS devices powered on as they begin visiting high schools to evaluate players over the next month. Let me provide a few suggestions on players who have been overlooked so far. Maybe they don't fit a height-weight requirement. Maybe they were injured last season. Maybe they don't participate in seven-on-seven all-star passing tournaments. Maybe they play multiple sports. Whatever the reason for not receiving early buzz, these players will be standouts in the fall, and it's far more relevant how someone performs in a real game compared with how they look running around a red cone.\", 'The prospect of housing astronauts beneath the surface on other planets has been brought up before, such as in 2014 when a NASA probe got hints of lava tubes beneath the moon\\x92s surface. Both China and Russia have announced plans to put a colony on the moon in the next few decades, and the US could be ramping up to make a return there as well. A lunar base would be a convenient staging point for longer missions to Mars and beyond, in addition to an important proof-of-concept for living on other worlds.\\n\\nThere are still a few challenges to be worked out though, most pressing of which is the question of supplies. Constantly shuttling food and water to the moon would be difficult, so settlers would need their own sources of sustenance. The moon likely contains water ice which could be converted into drinking water and even fuel, but food production would require off-world agriculture. There are a few models for this, based largely on hydroponics, but it\\x92s a task that hasn\\x92t been seriously attempted yet.\\n\\nNevertheless, if we manage to seal off a lunar cave, as some have suggested, by installing thick glass or metal shields across any openings and pump it full of air, it could be possible. A system of mirrors could funnel sunlight down below, and lunar settlers could live and farm relatively comfortably. The same idea could work on Mars as well; the Red Planet also has caves, in addition to water ice reserves.']\n"
     ]
    }
   ],
   "source": [
    "f = open('doc4.txt')\n",
    "input_4 = f.read()\n",
    "input_list.append(input_4)\n",
    "print (input_list)"
   ]
  },
  {
   "cell_type": "code",
   "execution_count": 15,
   "metadata": {},
   "outputs": [
    {
     "name": "stdout",
     "output_type": "stream",
     "text": [
      "['For all the dangers football poses to its players, the sport still represents hope to thousands of young men. Judd Ehrlich\\'s persuasive but slight documentary \"We Could Be King\" movingly argues for the necessity of high-school athletics, especially in low-income communities, where pigskin is a key tool educators have in encouraging would-be dropouts to stay in school. After the Philadelphia school board closes 37 schools and merges Martin Luther King High with its Germantown rivals, heroic Ed Dunn oversees the union of the two football teams.', 'C:\\\\Users\\\\sujata\\\\AppData\\\\Local\\\\Temp\\\\NLPdataEX7_doc2.txt NLPdataEX7_doc2.txt^C:\\\\Users\\\\sujata\\\\Desktop\\\\AI-AppDeveloperFS-ML&NLP-assignmentdata\\\\NLPdataEx7\\\\NLPdataEX7_doc2.txt', \"College football recruiters have their GPS devices powered on as they begin visiting high schools to evaluate players over the next month. Let me provide a few suggestions on players who have been overlooked so far. Maybe they don't fit a height-weight requirement. Maybe they were injured last season. Maybe they don't participate in seven-on-seven all-star passing tournaments. Maybe they play multiple sports. Whatever the reason for not receiving early buzz, these players will be standouts in the fall, and it's far more relevant how someone performs in a real game compared with how they look running around a red cone.\", 'The prospect of housing astronauts beneath the surface on other planets has been brought up before, such as in 2014 when a NASA probe got hints of lava tubes beneath the moon\\x92s surface. Both China and Russia have announced plans to put a colony on the moon in the next few decades, and the US could be ramping up to make a return there as well. A lunar base would be a convenient staging point for longer missions to Mars and beyond, in addition to an important proof-of-concept for living on other worlds.\\n\\nThere are still a few challenges to be worked out though, most pressing of which is the question of supplies. Constantly shuttling food and water to the moon would be difficult, so settlers would need their own sources of sustenance. The moon likely contains water ice which could be converted into drinking water and even fuel, but food production would require off-world agriculture. There are a few models for this, based largely on hydroponics, but it\\x92s a task that hasn\\x92t been seriously attempted yet.\\n\\nNevertheless, if we manage to seal off a lunar cave, as some have suggested, by installing thick glass or metal shields across any openings and pump it full of air, it could be possible. A system of mirrors could funnel sunlight down below, and lunar settlers could live and farm relatively comfortably. The same idea could work on Mars as well; the Red Planet also has caves, in addition to water ice reserves.', 'According to radar data from the agency\\x92s SELENE lunar orbiter, published Thursday in Geophysical Research Letters, the chasm is less than 330 feet beneath the surface and around 300 feet wide\\x97dimensions that could comfortably house inhabitants. Other lava tubes were hinted at by the presence of \\x93skylights,\\x94 or areas where the roof of the tube has collapsed, exposing it to the surface above. It\\x92s not yet known how many such skylights exist for this cave.\\n\\nLava tubes formed billions of years ago when the moon was still geologically active and molten rock gushed from beneath the surface. Vast lava plains today still mark the moon\\x92s surface, and tunneling through them are channels where lava once ran. In some cases, the lava subsided, leaving a hollow chamber behind. These are similar to the lava tubes found on Earth, and many still exist on the moon.']\n"
     ]
    }
   ],
   "source": [
    "f = open('doc5.txt')\n",
    "input_5 = f.read()\n",
    "input_list.append(input_5)\n",
    "print (input_list)"
   ]
  },
  {
   "cell_type": "code",
   "execution_count": 16,
   "metadata": {},
   "outputs": [
    {
     "name": "stdout",
     "output_type": "stream",
     "text": [
      "['For all the dangers football poses to its players, the sport still represents hope to thousands of young men. Judd Ehrlich\\'s persuasive but slight documentary \"We Could Be King\" movingly argues for the necessity of high-school athletics, especially in low-income communities, where pigskin is a key tool educators have in encouraging would-be dropouts to stay in school. After the Philadelphia school board closes 37 schools and merges Martin Luther King High with its Germantown rivals, heroic Ed Dunn oversees the union of the two football teams.', 'C:\\\\Users\\\\sujata\\\\AppData\\\\Local\\\\Temp\\\\NLPdataEX7_doc2.txt NLPdataEX7_doc2.txt^C:\\\\Users\\\\sujata\\\\Desktop\\\\AI-AppDeveloperFS-ML&NLP-assignmentdata\\\\NLPdataEx7\\\\NLPdataEX7_doc2.txt', \"College football recruiters have their GPS devices powered on as they begin visiting high schools to evaluate players over the next month. Let me provide a few suggestions on players who have been overlooked so far. Maybe they don't fit a height-weight requirement. Maybe they were injured last season. Maybe they don't participate in seven-on-seven all-star passing tournaments. Maybe they play multiple sports. Whatever the reason for not receiving early buzz, these players will be standouts in the fall, and it's far more relevant how someone performs in a real game compared with how they look running around a red cone.\", 'The prospect of housing astronauts beneath the surface on other planets has been brought up before, such as in 2014 when a NASA probe got hints of lava tubes beneath the moon\\x92s surface. Both China and Russia have announced plans to put a colony on the moon in the next few decades, and the US could be ramping up to make a return there as well. A lunar base would be a convenient staging point for longer missions to Mars and beyond, in addition to an important proof-of-concept for living on other worlds.\\n\\nThere are still a few challenges to be worked out though, most pressing of which is the question of supplies. Constantly shuttling food and water to the moon would be difficult, so settlers would need their own sources of sustenance. The moon likely contains water ice which could be converted into drinking water and even fuel, but food production would require off-world agriculture. There are a few models for this, based largely on hydroponics, but it\\x92s a task that hasn\\x92t been seriously attempted yet.\\n\\nNevertheless, if we manage to seal off a lunar cave, as some have suggested, by installing thick glass or metal shields across any openings and pump it full of air, it could be possible. A system of mirrors could funnel sunlight down below, and lunar settlers could live and farm relatively comfortably. The same idea could work on Mars as well; the Red Planet also has caves, in addition to water ice reserves.', 'According to radar data from the agency\\x92s SELENE lunar orbiter, published Thursday in Geophysical Research Letters, the chasm is less than 330 feet beneath the surface and around 300 feet wide\\x97dimensions that could comfortably house inhabitants. Other lava tubes were hinted at by the presence of \\x93skylights,\\x94 or areas where the roof of the tube has collapsed, exposing it to the surface above. It\\x92s not yet known how many such skylights exist for this cave.\\n\\nLava tubes formed billions of years ago when the moon was still geologically active and molten rock gushed from beneath the surface. Vast lava plains today still mark the moon\\x92s surface, and tunneling through them are channels where lava once ran. In some cases, the lava subsided, leaving a hollow chamber behind. These are similar to the lava tubes found on Earth, and many still exist on the moon.', ' President Donald Trump has made it known he won\\'t set foot in the state on behalf of embattled Republican Roy Moore. But he is insisting that voters must never elect Moore\\'s Democratic foe.\\n\\nTrump is embracing a tried-and-true tactic before the Dec. 12 special election. The president is staking out a position that should bring him the least political exposure.\\n\\nTrump has repeatedly assailed Democratic candidate Doug Jones, has publicly defended Moore against allegations of child molestation and has broken with other GOP leaders calling on Moore to get out of the race. But White House press secretary Sarah Huckabee Sanders said Monday the president is too busy to \"do anything between now and Election Day\" for the candidate.\\n']\n"
     ]
    }
   ],
   "source": [
    "f = open('doc6.txt')\n",
    "input_6 = f.read()\n",
    "input_list.append(input_6)\n",
    "print (input_list)"
   ]
  },
  {
   "cell_type": "code",
   "execution_count": 17,
   "metadata": {},
   "outputs": [
    {
     "name": "stdout",
     "output_type": "stream",
     "text": [
      "['For all the dangers football poses to its players, the sport still represents hope to thousands of young men. Judd Ehrlich\\'s persuasive but slight documentary \"We Could Be King\" movingly argues for the necessity of high-school athletics, especially in low-income communities, where pigskin is a key tool educators have in encouraging would-be dropouts to stay in school. After the Philadelphia school board closes 37 schools and merges Martin Luther King High with its Germantown rivals, heroic Ed Dunn oversees the union of the two football teams.', 'C:\\\\Users\\\\sujata\\\\AppData\\\\Local\\\\Temp\\\\NLPdataEX7_doc2.txt NLPdataEX7_doc2.txt^C:\\\\Users\\\\sujata\\\\Desktop\\\\AI-AppDeveloperFS-ML&NLP-assignmentdata\\\\NLPdataEx7\\\\NLPdataEX7_doc2.txt', \"College football recruiters have their GPS devices powered on as they begin visiting high schools to evaluate players over the next month. Let me provide a few suggestions on players who have been overlooked so far. Maybe they don't fit a height-weight requirement. Maybe they were injured last season. Maybe they don't participate in seven-on-seven all-star passing tournaments. Maybe they play multiple sports. Whatever the reason for not receiving early buzz, these players will be standouts in the fall, and it's far more relevant how someone performs in a real game compared with how they look running around a red cone.\", 'The prospect of housing astronauts beneath the surface on other planets has been brought up before, such as in 2014 when a NASA probe got hints of lava tubes beneath the moon\\x92s surface. Both China and Russia have announced plans to put a colony on the moon in the next few decades, and the US could be ramping up to make a return there as well. A lunar base would be a convenient staging point for longer missions to Mars and beyond, in addition to an important proof-of-concept for living on other worlds.\\n\\nThere are still a few challenges to be worked out though, most pressing of which is the question of supplies. Constantly shuttling food and water to the moon would be difficult, so settlers would need their own sources of sustenance. The moon likely contains water ice which could be converted into drinking water and even fuel, but food production would require off-world agriculture. There are a few models for this, based largely on hydroponics, but it\\x92s a task that hasn\\x92t been seriously attempted yet.\\n\\nNevertheless, if we manage to seal off a lunar cave, as some have suggested, by installing thick glass or metal shields across any openings and pump it full of air, it could be possible. A system of mirrors could funnel sunlight down below, and lunar settlers could live and farm relatively comfortably. The same idea could work on Mars as well; the Red Planet also has caves, in addition to water ice reserves.', 'According to radar data from the agency\\x92s SELENE lunar orbiter, published Thursday in Geophysical Research Letters, the chasm is less than 330 feet beneath the surface and around 300 feet wide\\x97dimensions that could comfortably house inhabitants. Other lava tubes were hinted at by the presence of \\x93skylights,\\x94 or areas where the roof of the tube has collapsed, exposing it to the surface above. It\\x92s not yet known how many such skylights exist for this cave.\\n\\nLava tubes formed billions of years ago when the moon was still geologically active and molten rock gushed from beneath the surface. Vast lava plains today still mark the moon\\x92s surface, and tunneling through them are channels where lava once ran. In some cases, the lava subsided, leaving a hollow chamber behind. These are similar to the lava tubes found on Earth, and many still exist on the moon.', ' President Donald Trump has made it known he won\\'t set foot in the state on behalf of embattled Republican Roy Moore. But he is insisting that voters must never elect Moore\\'s Democratic foe.\\n\\nTrump is embracing a tried-and-true tactic before the Dec. 12 special election. The president is staking out a position that should bring him the least political exposure.\\n\\nTrump has repeatedly assailed Democratic candidate Doug Jones, has publicly defended Moore against allegations of child molestation and has broken with other GOP leaders calling on Moore to get out of the race. But White House press secretary Sarah Huckabee Sanders said Monday the president is too busy to \"do anything between now and Election Day\" for the candidate.\\n', 'The two independent cabinet ministers that support Prime Minister Leo Varadkar\\'s minority government said the uncertainty over the future of his deputy prime minister was \\'very grave\\'.\\n\\n\"The situation is very grave. We will make our views known to the taoiseach (prime minister) at cabinet this morning,\" the Independent Alliance group\\'s Finian McGrath told reporters. He would not comment on whether the deputy prime minister should resign.\\n']\n"
     ]
    }
   ],
   "source": [
    "f = open('doc7.txt')\n",
    "input_7 = f.read()\n",
    "input_list.append(input_7)\n",
    "print (input_list)"
   ]
  },
  {
   "cell_type": "code",
   "execution_count": 18,
   "metadata": {},
   "outputs": [
    {
     "data": {
      "text/plain": [
       "7"
      ]
     },
     "execution_count": 18,
     "metadata": {},
     "output_type": "execute_result"
    }
   ],
   "source": [
    "len(input_list)"
   ]
  },
  {
   "cell_type": "code",
   "execution_count": 19,
   "metadata": {},
   "outputs": [
    {
     "data": {
      "text/plain": [
       "['For all the dangers football poses to its players, the sport still represents hope to thousands of young men. Judd Ehrlich\\'s persuasive but slight documentary \"We Could Be King\" movingly argues for the necessity of high-school athletics, especially in low-income communities, where pigskin is a key tool educators have in encouraging would-be dropouts to stay in school. After the Philadelphia school board closes 37 schools and merges Martin Luther King High with its Germantown rivals, heroic Ed Dunn oversees the union of the two football teams.',\n",
       " 'C:\\\\Users\\\\sujata\\\\AppData\\\\Local\\\\Temp\\\\NLPdataEX7_doc2.txt NLPdataEX7_doc2.txt^C:\\\\Users\\\\sujata\\\\Desktop\\\\AI-AppDeveloperFS-ML&NLP-assignmentdata\\\\NLPdataEx7\\\\NLPdataEX7_doc2.txt',\n",
       " \"College football recruiters have their GPS devices powered on as they begin visiting high schools to evaluate players over the next month. Let me provide a few suggestions on players who have been overlooked so far. Maybe they don't fit a height-weight requirement. Maybe they were injured last season. Maybe they don't participate in seven-on-seven all-star passing tournaments. Maybe they play multiple sports. Whatever the reason for not receiving early buzz, these players will be standouts in the fall, and it's far more relevant how someone performs in a real game compared with how they look running around a red cone.\",\n",
       " 'The prospect of housing astronauts beneath the surface on other planets has been brought up before, such as in 2014 when a NASA probe got hints of lava tubes beneath the moon\\x92s surface. Both China and Russia have announced plans to put a colony on the moon in the next few decades, and the US could be ramping up to make a return there as well. A lunar base would be a convenient staging point for longer missions to Mars and beyond, in addition to an important proof-of-concept for living on other worlds.\\n\\nThere are still a few challenges to be worked out though, most pressing of which is the question of supplies. Constantly shuttling food and water to the moon would be difficult, so settlers would need their own sources of sustenance. The moon likely contains water ice which could be converted into drinking water and even fuel, but food production would require off-world agriculture. There are a few models for this, based largely on hydroponics, but it\\x92s a task that hasn\\x92t been seriously attempted yet.\\n\\nNevertheless, if we manage to seal off a lunar cave, as some have suggested, by installing thick glass or metal shields across any openings and pump it full of air, it could be possible. A system of mirrors could funnel sunlight down below, and lunar settlers could live and farm relatively comfortably. The same idea could work on Mars as well; the Red Planet also has caves, in addition to water ice reserves.',\n",
       " 'According to radar data from the agency\\x92s SELENE lunar orbiter, published Thursday in Geophysical Research Letters, the chasm is less than 330 feet beneath the surface and around 300 feet wide\\x97dimensions that could comfortably house inhabitants. Other lava tubes were hinted at by the presence of \\x93skylights,\\x94 or areas where the roof of the tube has collapsed, exposing it to the surface above. It\\x92s not yet known how many such skylights exist for this cave.\\n\\nLava tubes formed billions of years ago when the moon was still geologically active and molten rock gushed from beneath the surface. Vast lava plains today still mark the moon\\x92s surface, and tunneling through them are channels where lava once ran. In some cases, the lava subsided, leaving a hollow chamber behind. These are similar to the lava tubes found on Earth, and many still exist on the moon.',\n",
       " ' President Donald Trump has made it known he won\\'t set foot in the state on behalf of embattled Republican Roy Moore. But he is insisting that voters must never elect Moore\\'s Democratic foe.\\n\\nTrump is embracing a tried-and-true tactic before the Dec. 12 special election. The president is staking out a position that should bring him the least political exposure.\\n\\nTrump has repeatedly assailed Democratic candidate Doug Jones, has publicly defended Moore against allegations of child molestation and has broken with other GOP leaders calling on Moore to get out of the race. But White House press secretary Sarah Huckabee Sanders said Monday the president is too busy to \"do anything between now and Election Day\" for the candidate.\\n',\n",
       " 'The two independent cabinet ministers that support Prime Minister Leo Varadkar\\'s minority government said the uncertainty over the future of his deputy prime minister was \\'very grave\\'.\\n\\n\"The situation is very grave. We will make our views known to the taoiseach (prime minister) at cabinet this morning,\" the Independent Alliance group\\'s Finian McGrath told reporters. He would not comment on whether the deputy prime minister should resign.\\n']"
      ]
     },
     "execution_count": 19,
     "metadata": {},
     "output_type": "execute_result"
    }
   ],
   "source": [
    "input_list"
   ]
  },
  {
   "cell_type": "code",
   "execution_count": null,
   "metadata": {},
   "outputs": [],
   "source": []
  },
  {
   "cell_type": "code",
   "execution_count": null,
   "metadata": {},
   "outputs": [],
   "source": []
  },
  {
   "cell_type": "code",
   "execution_count": null,
   "metadata": {},
   "outputs": [],
   "source": []
  },
  {
   "cell_type": "code",
   "execution_count": 20,
   "metadata": {},
   "outputs": [],
   "source": [
    "def text_processor(message):\n",
    "    nopunc = [char for char in message if char not in string.punctuation]\n",
    "    nopunc = ''.join(nopunc)\n",
    "    return [word for word in nopunc.split() if word.lower() not in stopwords.words('english')]"
   ]
  },
  {
   "cell_type": "code",
   "execution_count": null,
   "metadata": {},
   "outputs": [],
   "source": []
  },
  {
   "cell_type": "code",
   "execution_count": null,
   "metadata": {},
   "outputs": [],
   "source": []
  },
  {
   "cell_type": "code",
   "execution_count": 27,
   "metadata": {},
   "outputs": [
    {
     "name": "stderr",
     "output_type": "stream",
     "text": [
      "c:\\python27\\lib\\site-packages\\ipykernel_launcher.py:4: UnicodeWarning: Unicode equal comparison failed to convert both arguments to Unicode - interpreting them as being unequal\n",
      "  after removing the cwd from sys.path.\n"
     ]
    },
    {
     "name": "stdout",
     "output_type": "stream",
     "text": [
      "dtm..............   (0, 4)\t1\n",
      "  (0, 11)\t1\n",
      "  (0, 17)\t1\n",
      "  (0, 19)\t1\n",
      "  (0, 20)\t1\n",
      "  (0, 26)\t1\n",
      "  (0, 27)\t1\n",
      "  (0, 33)\t1\n",
      "  (0, 34)\t2\n",
      "  (0, 39)\t1\n",
      "  (0, 41)\t1\n",
      "  (0, 51)\t1\n",
      "  (0, 83)\t1\n",
      "  (0, 87)\t1\n",
      "  (0, 97)\t1\n",
      "  (0, 114)\t1\n",
      "  (0, 119)\t1\n",
      "  (0, 126)\t1\n",
      "  (0, 133)\t1\n",
      "  (0, 136)\t1\n",
      "  (0, 138)\t1\n",
      "  (0, 143)\t1\n",
      "  (0, 144)\t1\n",
      "  (0, 158)\t2\n",
      "  (0, 176)\t1\n",
      "  :\t:\n",
      "  (6, 130)\t2\n",
      "  (6, 164)\t1\n",
      "  (6, 170)\t1\n",
      "  (6, 171)\t2\n",
      "  (6, 172)\t1\n",
      "  (6, 189)\t1\n",
      "  (6, 196)\t1\n",
      "  (6, 212)\t1\n",
      "  (6, 219)\t3\n",
      "  (6, 220)\t1\n",
      "  (6, 221)\t1\n",
      "  (6, 230)\t1\n",
      "  (6, 263)\t3\n",
      "  (6, 286)\t1\n",
      "  (6, 291)\t1\n",
      "  (6, 297)\t1\n",
      "  (6, 310)\t1\n",
      "  (6, 329)\t1\n",
      "  (6, 334)\t1\n",
      "  (6, 341)\t1\n",
      "  (6, 348)\t1\n",
      "  (6, 349)\t1\n",
      "  (6, 351)\t1\n",
      "  (6, 356)\t1\n",
      "  (6, 362)\t1\n",
      "                                                    12  2014  300  330  37  \\\n",
      "For all the dangers football poses to its playe...   0     0    0    0   1   \n",
      "C:\\Users\\sujata\\AppData\\Local\\Temp\\NLPdataEX7_d...   0     0    0    0   0   \n",
      "College football recruiters have their GPS devi...   0     0    0    0   0   \n",
      "The prospect of housing astronauts beneath the ...   0     1    0    0   0   \n",
      "According to radar data from the agency�s SELEN...   0     0    1    1   0   \n",
      " President Donald Trump has made it known he wo...   1     0    0    0   0   \n",
      "The two independent cabinet ministers that supp...   0     0    0    0   0   \n",
      "\n",
      "                                                    According  Alliance  \\\n",
      "For all the dangers football poses to its playe...          0         0   \n",
      "C:\\Users\\sujata\\AppData\\Local\\Temp\\NLPdataEX7_d...          0         0   \n",
      "College football recruiters have their GPS devi...          0         0   \n",
      "The prospect of housing astronauts beneath the ...          0         0   \n",
      "According to radar data from the agency�s SELEN...          1         0   \n",
      " President Donald Trump has made it known he wo...          0         0   \n",
      "The two independent cabinet ministers that supp...          0         1   \n",
      "\n",
      "                                                    CUserssujataAppDataLocalTempNLPdataEX7doc2txt  \\\n",
      "For all the dangers football poses to its playe...                                              0   \n",
      "C:\\Users\\sujata\\AppData\\Local\\Temp\\NLPdataEX7_d...                                              1   \n",
      "College football recruiters have their GPS devi...                                              0   \n",
      "The prospect of housing astronauts beneath the ...                                              0   \n",
      "According to radar data from the agency�s SELEN...                                              0   \n",
      " President Donald Trump has made it known he wo...                                              0   \n",
      "The two independent cabinet ministers that supp...                                              0   \n",
      "\n",
      "                                                    China  College  \\\n",
      "For all the dangers football poses to its playe...      0        0   \n",
      "C:\\Users\\sujata\\AppData\\Local\\Temp\\NLPdataEX7_d...      0        0   \n",
      "College football recruiters have their GPS devi...      0        1   \n",
      "The prospect of housing astronauts beneath the ...      1        0   \n",
      "According to radar data from the agency�s SELEN...      0        0   \n",
      " President Donald Trump has made it known he wo...      0        0   \n",
      "The two independent cabinet ministers that supp...      0        0   \n",
      "\n",
      "                                                       ...       wont  work  \\\n",
      "For all the dangers football poses to its playe...     ...          0     0   \n",
      "C:\\Users\\sujata\\AppData\\Local\\Temp\\NLPdataEX7_d...     ...          0     0   \n",
      "College football recruiters have their GPS devi...     ...          0     0   \n",
      "The prospect of housing astronauts beneath the ...     ...          0     1   \n",
      "According to radar data from the agency�s SELEN...     ...          0     0   \n",
      " President Donald Trump has made it known he wo...     ...          1     0   \n",
      "The two independent cabinet ministers that supp...     ...          0     0   \n",
      "\n",
      "                                                    worked  worlds  would  \\\n",
      "For all the dangers football poses to its playe...       0       0      0   \n",
      "C:\\Users\\sujata\\AppData\\Local\\Temp\\NLPdataEX7_d...       0       0      0   \n",
      "College football recruiters have their GPS devi...       0       0      0   \n",
      "The prospect of housing astronauts beneath the ...       1       1      4   \n",
      "According to radar data from the agency�s SELEN...       0       0      0   \n",
      " President Donald Trump has made it known he wo...       0       0      0   \n",
      "The two independent cabinet ministers that supp...       0       0      1   \n",
      "\n",
      "                                                    wouldbe  years  yet  \\\n",
      "For all the dangers football poses to its playe...        1      0    0   \n",
      "C:\\Users\\sujata\\AppData\\Local\\Temp\\NLPdataEX7_d...        0      0    0   \n",
      "College football recruiters have their GPS devi...        0      0    0   \n",
      "The prospect of housing astronauts beneath the ...        0      0    1   \n",
      "According to radar data from the agency�s SELEN...        0      1    1   \n",
      " President Donald Trump has made it known he wo...        0      0    0   \n",
      "The two independent cabinet ministers that supp...        0      0    0   \n",
      "\n",
      "                                                    young  �skylights�  \n",
      "For all the dangers football poses to its playe...      1            0  \n",
      "C:\\Users\\sujata\\AppData\\Local\\Temp\\NLPdataEX7_d...      0            0  \n",
      "College football recruiters have their GPS devi...      0            0  \n",
      "The prospect of housing astronauts beneath the ...      0            0  \n",
      "According to radar data from the agency�s SELEN...      0            1  \n",
      " President Donald Trump has made it known he wo...      0            0  \n",
      "The two independent cabinet ministers that supp...      0            0  \n",
      "\n",
      "[7 rows x 368 columns]\n",
      "                   12      2014       300       330        37  According  \\\n",
      "component_1  0.000203  0.059469  0.026164  0.026164  0.000821   0.026164   \n",
      "component_2  0.002437 -0.036332  0.082511  0.082511  0.003622   0.082511   \n",
      "\n",
      "             Alliance  CUserssujataAppDataLocalTempNLPdataEX7doc2txt  \\\n",
      "component_1  0.001838                                   2.775188e-17   \n",
      "component_2 -0.001446                                  -7.310629e-18   \n",
      "\n",
      "                China   College     ...           wont      work    worked  \\\n",
      "component_1  0.059469  0.000586     ...       0.000203  0.059469  0.059469   \n",
      "component_2 -0.036332  0.001670     ...       0.002437 -0.036332 -0.036332   \n",
      "\n",
      "               worlds     would   wouldbe     years       yet     young  \\\n",
      "component_1  0.059469  0.239713  0.000821  0.026164  0.085633  0.000821   \n",
      "component_2 -0.036332 -0.146774  0.003622  0.082511  0.046179  0.003622   \n",
      "\n",
      "             �skylights�  \n",
      "component_1     0.026164  \n",
      "component_2     0.082511  \n",
      "\n",
      "[2 rows x 368 columns]\n",
      "                                                    component_1  component_2\n",
      "For all the dangers football poses to its playe...     0.400433     0.916326\n",
      "C:\\Users\\sujata\\AppData\\Local\\Temp\\NLPdataEX7_d...     0.879916    -0.475130\n",
      "College football recruiters have their GPS devi...     0.560310     0.828283\n",
      "The prospect of housing astronauts beneath the ...     0.953339    -0.301902\n",
      "According to radar data from the agency�s SELEN...     0.521849     0.853038\n",
      " President Donald Trump has made it known he wo...     0.159025     0.987275\n",
      "The two independent cabinet ministers that supp...     0.925938    -0.377676\n",
      "[0.40043331873809146, 0.8799156804146271, 0.5603099757725368, 0.9533390453620815, 0.5218490973373036, 0.15902494538057735, 0.9259379514767205] [0.9163259012187739, -0.47512987209863344, 0.8282830017872993, -0.30190174658010044, 0.8530378183927377, 0.9872745650257098, -0.3776756677562034]\n",
      "@@@@@@@@@@@@@\n",
      "                                                    For all the dangers football poses to its players, the sport still represents hope to thousands of young men. Judd Ehrlich's persuasive but slight documentary \"We Could Be King\" movingly argues for the necessity of high-school athletics, especially in low-income communities, where pigskin is a key tool educators have in encouraging would-be dropouts to stay in school. After the Philadelphia school board closes 37 schools and merges Martin Luther King High with its Germantown rivals, heroic Ed Dunn oversees the union of the two football teams.  \\\n",
      "For all the dangers football poses to its playe...                                           1.000000                                                                                                                                                                                                                                                                                                                                                                                                                                                                                                                      \n",
      "C:\\Users\\sujata\\AppData\\Local\\Temp\\NLPdataEX7_d...                                          -0.083026                                                                                                                                                                                                                                                                                                                                                                                                                                                                                                                      \n",
      "College football recruiters have their GPS devi...                                           0.983344                                                                                                                                                                                                                                                                                                                                                                                                                                                                                                                      \n",
      "The prospect of housing astronauts beneath the ...                                           0.105108                                                                                                                                                                                                                                                                                                                                                                                                                                                                                                                      \n",
      "According to radar data from the agency�s SELEN...                                           0.990626                                                                                                                                                                                                                                                                                                                                                                                                                                                                                                                      \n",
      " President Donald Trump has made it known he wo...                                           0.968344                                                                                                                                                                                                                                                                                                                                                                                                                                                                                                                      \n",
      "The two independent cabinet ministers that supp...                                           0.024702                                                                                                                                                                                                                                                                                                                                                                                                                                                                                                                      \n",
      "\n",
      "                                                    C:\\Users\\sujata\\AppData\\Local\\Temp\\NLPdataEX7_doc2.txt NLPdataEX7_doc2.txt^C:\\Users\\sujata\\Desktop\\AI-AppDeveloperFS-ML&NLP-assignmentdata\\NLPdataEx7\\NLPdataEX7_doc2.txt  \\\n",
      "For all the dangers football poses to its playe...                                          -0.083026                                                                                                                           \n",
      "C:\\Users\\sujata\\AppData\\Local\\Temp\\NLPdataEX7_d...                                           1.000000                                                                                                                           \n",
      "College football recruiters have their GPS devi...                                           0.099484                                                                                                                           \n",
      "The prospect of housing astronauts beneath the ...                                           0.982301                                                                                                                           \n",
      "According to radar data from the agency�s SELEN...                                           0.053879                                                                                                                           \n",
      " President Donald Trump has made it known he wo...                                          -0.329155                                                                                                                           \n",
      "The two independent cabinet ministers that supp...                                           0.994192                                                                                                                           \n",
      "\n",
      "                                                    College football recruiters have their GPS devices powered on as they begin visiting high schools to evaluate players over the next month. Let me provide a few suggestions on players who have been overlooked so far. Maybe they don't fit a height-weight requirement. Maybe they were injured last season. Maybe they don't participate in seven-on-seven all-star passing tournaments. Maybe they play multiple sports. Whatever the reason for not receiving early buzz, these players will be standouts in the fall, and it's far more relevant how someone performs in a real game compared with how they look running around a red cone.  \\\n",
      "For all the dangers football poses to its playe...                                           0.983344                                                                                                                                                                                                                                                                                                                                                                                                                                                                                                                                                                                                   \n",
      "C:\\Users\\sujata\\AppData\\Local\\Temp\\NLPdataEX7_d...                                           0.099484                                                                                                                                                                                                                                                                                                                                                                                                                                                                                                                                                                                                   \n",
      "College football recruiters have their GPS devi...                                           1.000000                                                                                                                                                                                                                                                                                                                                                                                                                                                                                                                                                                                                   \n",
      "The prospect of housing astronauts beneath the ...                                           0.284105                                                                                                                                                                                                                                                                                                                                                                                                                                                                                                                                                                                                   \n",
      "According to radar data from the agency�s SELEN...                                           0.998954                                                                                                                                                                                                                                                                                                                                                                                                                                                                                                                                                                                                   \n",
      " President Donald Trump has made it known he wo...                                           0.906846                                                                                                                                                                                                                                                                                                                                                                                                                                                                                                                                                                                                   \n",
      "The two independent cabinet ministers that supp...                                           0.205990                                                                                                                                                                                                                                                                                                                                                                                                                                                                                                                                                                                                   \n",
      "\n",
      "                                                    The prospect of housing astronauts beneath the surface on other planets has been brought up before, such as in 2014 when a NASA probe got hints of lava tubes beneath the moon�s surface. Both China and Russia have announced plans to put a colony on the moon in the next few decades, and the US could be ramping up to make a return there as well. A lunar base would be a convenient staging point for longer missions to Mars and beyond, in addition to an important proof-of-concept for living on other worlds.\\n\\nThere are still a few challenges to be worked out though, most pressing of which is the question of supplies. Constantly shuttling food and water to the moon would be difficult, so settlers would need their own sources of sustenance. The moon likely contains water ice which could be converted into drinking water and even fuel, but food production would require off-world agriculture. There are a few models for this, based largely on hydroponics, but it�s a task that hasn�t been seriously attempted yet.\\n\\nNevertheless, if we manage to seal off a lunar cave, as some have suggested, by installing thick glass or metal shields across any openings and pump it full of air, it could be possible. A system of mirrors could funnel sunlight down below, and lunar settlers could live and farm relatively comfortably. The same idea could work on Mars as well; the Red Planet also has caves, in addition to water ice reserves.  \\\n",
      "For all the dangers football poses to its playe...                                           0.105108                                                                                                                                                                                                                                                                                                                                                                                                                                                                                                                                                                                                                                                                                                                                                                                                                                                                                                                                                                                                                                                                                                                                                                                                                                                                                                                                                                                                                                         \n",
      "C:\\Users\\sujata\\AppData\\Local\\Temp\\NLPdataEX7_d...                                           0.982301                                                                                                                                                                                                                                                                                                                                                                                                                                                                                                                                                                                                                                                                                                                                                                                                                                                                                                                                                                                                                                                                                                                                                                                                                                                                                                                                                                                                                                         \n",
      "College football recruiters have their GPS devi...                                           0.284105                                                                                                                                                                                                                                                                                                                                                                                                                                                                                                                                                                                                                                                                                                                                                                                                                                                                                                                                                                                                                                                                                                                                                                                                                                                                                                                                                                                                                                         \n",
      "The prospect of housing astronauts beneath the ...                                           1.000000                                                                                                                                                                                                                                                                                                                                                                                                                                                                                                                                                                                                                                                                                                                                                                                                                                                                                                                                                                                                                                                                                                                                                                                                                                                                                                                                                                                                                                         \n",
      "According to radar data from the agency�s SELEN...                                           0.239966                                                                                                                                                                                                                                                                                                                                                                                                                                                                                                                                                                                                                                                                                                                                                                                                                                                                                                                                                                                                                                                                                                                                                                                                                                                                                                                                                                                                                                         \n",
      " President Donald Trump has made it known he wo...                                          -0.146455                                                                                                                                                                                                                                                                                                                                                                                                                                                                                                                                                                                                                                                                                                                                                                                                                                                                                                                                                                                                                                                                                                                                                                                                                                                                                                                                                                                                                                         \n",
      "The two independent cabinet ministers that supp...                                           0.996754                                                                                                                                                                                                                                                                                                                                                                                                                                                                                                                                                                                                                                                                                                                                                                                                                                                                                                                                                                                                                                                                                                                                                                                                                                                                                                                                                                                                                                         \n",
      "\n",
      "                                                    According to radar data from the agency�s SELENE lunar orbiter, published Thursday in Geophysical Research Letters, the chasm is less than 330 feet beneath the surface and around 300 feet wide�dimensions that could comfortably house inhabitants. Other lava tubes were hinted at by the presence of �skylights,� or areas where the roof of the tube has collapsed, exposing it to the surface above. It�s not yet known how many such skylights exist for this cave.\\n\\nLava tubes formed billions of years ago when the moon was still geologically active and molten rock gushed from beneath the surface. Vast lava plains today still mark the moon�s surface, and tunneling through them are channels where lava once ran. In some cases, the lava subsided, leaving a hollow chamber behind. These are similar to the lava tubes found on Earth, and many still exist on the moon.  \\\n",
      "For all the dangers football poses to its playe...                                           0.990626                                                                                                                                                                                                                                                                                                                                                                                                                                                                                                                                                                                                                                                                                                                                                                                                                                                \n",
      "C:\\Users\\sujata\\AppData\\Local\\Temp\\NLPdataEX7_d...                                           0.053879                                                                                                                                                                                                                                                                                                                                                                                                                                                                                                                                                                                                                                                                                                                                                                                                                                                \n",
      "College football recruiters have their GPS devi...                                           0.998954                                                                                                                                                                                                                                                                                                                                                                                                                                                                                                                                                                                                                                                                                                                                                                                                                                                \n",
      "The prospect of housing astronauts beneath the ...                                           0.239966                                                                                                                                                                                                                                                                                                                                                                                                                                                                                                                                                                                                                                                                                                                                                                                                                                                \n",
      "According to radar data from the agency�s SELEN...                                           1.000000                                                                                                                                                                                                                                                                                                                                                                                                                                                                                                                                                                                                                                                                                                                                                                                                                                                \n",
      " President Donald Trump has made it known he wo...                                           0.925170                                                                                                                                                                                                                                                                                                                                                                                                                                                                                                                                                                                                                                                                                                                                                                                                                                                \n",
      "The two independent cabinet ministers that supp...                                           0.161028                                                                                                                                                                                                                                                                                                                                                                                                                                                                                                                                                                                                                                                                                                                                                                                                                                                \n",
      "\n",
      "                                                     President Donald Trump has made it known he won't set foot in the state on behalf of embattled Republican Roy Moore. But he is insisting that voters must never elect Moore's Democratic foe.\\n\\nTrump is embracing a tried-and-true tactic before the Dec. 12 special election. The president is staking out a position that should bring him the least political exposure.\\n\\nTrump has repeatedly assailed Democratic candidate Doug Jones, has publicly defended Moore against allegations of child molestation and has broken with other GOP leaders calling on Moore to get out of the race. But White House press secretary Sarah Huckabee Sanders said Monday the president is too busy to \"do anything between now and Election Day\" for the candidate.\\n  \\\n",
      "For all the dangers football poses to its playe...                                           0.968344                                                                                                                                                                                                                                                                                                                                                                                                                                                                                                                                                                                                                                                                                                                     \n",
      "C:\\Users\\sujata\\AppData\\Local\\Temp\\NLPdataEX7_d...                                          -0.329155                                                                                                                                                                                                                                                                                                                                                                                                                                                                                                                                                                                                                                                                                                                     \n",
      "College football recruiters have their GPS devi...                                           0.906846                                                                                                                                                                                                                                                                                                                                                                                                                                                                                                                                                                                                                                                                                                                     \n",
      "The prospect of housing astronauts beneath the ...                                          -0.146455                                                                                                                                                                                                                                                                                                                                                                                                                                                                                                                                                                                                                                                                                                                     \n",
      "According to radar data from the agency�s SELEN...                                           0.925170                                                                                                                                                                                                                                                                                                                                                                                                                                                                                                                                                                                                                                                                                                                     \n",
      " President Donald Trump has made it known he wo...                                           1.000000                                                                                                                                                                                                                                                                                                                                                                                                                                                                                                                                                                                                                                                                                                                     \n",
      "The two independent cabinet ministers that supp...                                          -0.225622                                                                                                                                                                                                                                                                                                                                                                                                                                                                                                                                                                                                                                                                                                                     \n",
      "\n",
      "                                                    The two independent cabinet ministers that support Prime Minister Leo Varadkar's minority government said the uncertainty over the future of his deputy prime minister was 'very grave'.\\n\\n\"The situation is very grave. We will make our views known to the taoiseach (prime minister) at cabinet this morning,\" the Independent Alliance group's Finian McGrath told reporters. He would not comment on whether the deputy prime minister should resign.\\n  \n",
      "For all the dangers football poses to its playe...                                           0.024702                                                                                                                                                                                                                                                                                                                                                                                                              \n",
      "C:\\Users\\sujata\\AppData\\Local\\Temp\\NLPdataEX7_d...                                           0.994192                                                                                                                                                                                                                                                                                                                                                                                                              \n",
      "College football recruiters have their GPS devi...                                           0.205990                                                                                                                                                                                                                                                                                                                                                                                                              \n",
      "The prospect of housing astronauts beneath the ...                                           0.996754                                                                                                                                                                                                                                                                                                                                                                                                              \n",
      "According to radar data from the agency�s SELEN...                                           0.161028                                                                                                                                                                                                                                                                                                                                                                                                              \n",
      " President Donald Trump has made it known he wo...                                          -0.225622                                                                                                                                                                                                                                                                                                                                                                                                              \n",
      "The two independent cabinet ministers that supp...                                           1.000000                                                                                                                                                                                                                                                                                                                                                                                                              \n",
      "#################\n"
     ]
    },
    {
     "data": {
      "image/png": "[encoded data removed]",
      "text/plain": [
       "<matplotlib.figure.Figure at 0xca0a750>"
      ]
     },
     "metadata": {},
     "output_type": "display_data"
    },
    {
     "data": {
      "image/png": "[encoded data removed]",
      "text/plain": [
       "<matplotlib.figure.Figure at 0xe6e2190>"
      ]
     },
     "metadata": {},
     "output_type": "display_data"
    }
   ],
   "source": [
    "# In reference to program made by anilkumar.ganesh@wipro.com\n",
    "import sklearn\n",
    "# Import all of the scikit learn stuff\n",
    "from __future__ import print_function\n",
    "from sklearn.decomposition import TruncatedSVD\n",
    "from sklearn.feature_extraction.text import TfidfVectorizer\n",
    "from sklearn.feature_extraction.text import CountVectorizer\n",
    "from sklearn.preprocessing import Normalizer\n",
    "from sklearn import metrics\n",
    "from sklearn.cluster import KMeans, MiniBatchKMeans\n",
    "import pandas as pd\n",
    "import warnings\n",
    "# Suppress warnings from pandas library\n",
    "warnings.filterwarnings(\"ignore\", category=DeprecationWarning, module=\"pandas\", lineno=570)\n",
    "\n",
    "import numpy\n",
    "import numpy as np\n",
    "\n",
    "vectorizer = CountVectorizer(min_df = 1, stop_words = 'english', analyzer = text_processor)\n",
    "#bag of words transformer\n",
    "bow_transformer = vectorizer.fit(input_list)\n",
    "dtm = bow_transformer.transform(input_list)\n",
    "print ('dtm..............',dtm)\n",
    "print(pd.DataFrame(dtm.toarray(),index=input_list,columns=vectorizer.get_feature_names()).head(10))\n",
    "\n",
    "# Get words that correspond to each column\n",
    "vectorizer.get_feature_names()\n",
    "\n",
    "# Fit LSA. Use algorithm = “randomized” for large datasets\n",
    "lsa = TruncatedSVD(2)\n",
    "dtm_lsa = lsa.fit_transform(dtm)\n",
    "dtm_lsa = Normalizer(copy=False).fit_transform(dtm_lsa)\n",
    "\n",
    "print(pd.DataFrame(lsa.components_,index = [\"component_1\",\"component_2\"],columns = vectorizer.get_feature_names()))\n",
    "print(pd.DataFrame(dtm_lsa, index = input_list, columns = [\"component_1\",\"component_2\"]))\n",
    "\n",
    "xs = [w[0] for w in dtm_lsa]\n",
    "ys = [w[1] for w in dtm_lsa]\n",
    "print (xs, ys)\n",
    "\n",
    "\n",
    "\n",
    "\n",
    "print (\"@@@@@@@@@@@@@\")\n",
    "# Compute document similarity using LSA components\n",
    "similarity = np.asarray(numpy.asmatrix(dtm_lsa) * numpy.asmatrix(dtm_lsa).T)\n",
    "print (pd.DataFrame(similarity,index=input_list, columns=input_list).head(10))\n",
    "\n",
    "print (\"#################\")\n",
    "%matplotlib inline\n",
    "import pylab\n",
    "pylab.interactive(True)\n",
    "\n",
    "import matplotlib.pyplot as plt\n",
    "plt.figure(1)\n",
    "plt.scatter(xs,ys)\n",
    "plt.xlabel('First principal component')\n",
    "plt.ylabel('Second principal component')\n",
    "plt.title('Plot of points against LSA principal components')\n",
    "plt.show(1)\n",
    "\n",
    "\n",
    "plt.figure(2)\n",
    "ax = plt.gca()\n",
    "ax.quiver(0,0,xs,ys,angles='xy',scale_units='xy',scale=1, linewidth = .01)\n",
    "ax.set_xlim([-1,1])\n",
    "ax.set_ylim([-1,1])\n",
    "plt.xlabel('First principal component')\n",
    "plt.ylabel('Second principal component')\n",
    "plt.title('Plot of points against LSA principal components')\n",
    "plt.show(2)"
   ]
  },
  {
   "cell_type": "code",
   "execution_count": null,
   "metadata": {},
   "outputs": [],
   "source": []
  }
 ],
 "metadata": {
  "kernelspec": {
   "display_name": "Python 2",
   "language": "python",
   "name": "python2"
  }
 },
 "nbformat": 4,
 "nbformat_minor": 2
}
