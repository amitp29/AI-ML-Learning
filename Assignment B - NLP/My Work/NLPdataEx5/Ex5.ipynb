{
 "cells": [
  {
   "cell_type": "code",
   "execution_count": 1,
   "metadata": {},
   "outputs": [],
   "source": [
    "import nltk\n",
    "from nltk.tokenize import word_tokenize\n",
    "from nltk.corpus import stopwords\n",
    "from nltk.stem import WordNetLemmatizer\n",
    "wordnet_lemmatizer = WordNetLemmatizer()"
   ]
  },
  {
   "cell_type": "code",
   "execution_count": 2,
   "metadata": {},
   "outputs": [],
   "source": [
    "f1 = open('data_senti_analyze.txt') "
   ]
  },
  {
   "cell_type": "code",
   "execution_count": 3,
   "metadata": {},
   "outputs": [],
   "source": [
    "input_data = f1.read()"
   ]
  },
  {
   "cell_type": "code",
   "execution_count": 4,
   "metadata": {},
   "outputs": [
    {
     "name": "stdout",
     "output_type": "stream",
     "text": [
      "Rose is beautiful.\n",
      "Place is nasty to stay.\n",
      "This is the beauty of this technique.\n",
      "Concept is explained beautifully in this book.\n",
      "He annoyed me.\n",
      "Its the supreme place to stay.\n",
      "I hate this place.\n",
      "Dont annoy the customer.\n",
      "He has given nasty comments about his stay.\n",
      "Dessert is awesome.\n",
      "Your gift is wonderful.\n"
     ]
    }
   ],
   "source": [
    "print input_data"
   ]
  },
  {
   "cell_type": "code",
   "execution_count": 5,
   "metadata": {},
   "outputs": [],
   "source": [
    "input_data_list = input_data.split('\\n')"
   ]
  },
  {
   "cell_type": "code",
   "execution_count": 6,
   "metadata": {},
   "outputs": [
    {
     "data": {
      "text/plain": [
       "['Rose is beautiful.',\n",
       " 'Place is nasty to stay.',\n",
       " 'This is the beauty of this technique.',\n",
       " 'Concept is explained beautifully in this book.',\n",
       " 'He annoyed me.',\n",
       " 'Its the supreme place to stay.',\n",
       " 'I hate this place.',\n",
       " 'Dont annoy the customer.',\n",
       " 'He has given nasty comments about his stay.',\n",
       " 'Dessert is awesome.',\n",
       " 'Your gift is wonderful.']"
      ]
     },
     "execution_count": 6,
     "metadata": {},
     "output_type": "execute_result"
    }
   ],
   "source": [
    "input_data_list"
   ]
  },
  {
   "cell_type": "code",
   "execution_count": 24,
   "metadata": {},
   "outputs": [],
   "source": [
    "f2 = open('dict.txt')"
   ]
  },
  {
   "cell_type": "code",
   "execution_count": 25,
   "metadata": {},
   "outputs": [],
   "source": [
    "pos_neg_words_dict = f2.read()"
   ]
  },
  {
   "cell_type": "code",
   "execution_count": 26,
   "metadata": {},
   "outputs": [
    {
     "data": {
      "text/plain": [
       "'neg_words=[\"hate\",\"hatred\",\"annoyed\",\"annoy\",\"annoyingly\",\"nasty\"]\\npos_words=[\"nice\",\"excellent\",\"good\",\"wonderful\",\"best\",\"better\",\"awesome\",\"beautiful\",\"beauty\",\"beautifully\",\"supreme\"]'"
      ]
     },
     "execution_count": 26,
     "metadata": {},
     "output_type": "execute_result"
    }
   ],
   "source": [
    "pos_neg_words_dict"
   ]
  },
  {
   "cell_type": "code",
   "execution_count": 27,
   "metadata": {},
   "outputs": [
    {
     "data": {
      "text/plain": [
       "{'neg_words': '[\"hate\",\"hatred\",\"annoyed\",\"annoy\",\"annoyingly\",\"nasty\"]',\n",
       " 'pos_words': '[\"nice\",\"excellent\",\"good\",\"wonderful\",\"best\",\"better\",\"awesome\",\"beautiful\",\"beauty\",\"beautifully\",\"supreme\"]'}"
      ]
     },
     "execution_count": 27,
     "metadata": {},
     "output_type": "execute_result"
    }
   ],
   "source": [
    "pos_neg_words_dict = pos_neg_words_dict.split('\\n')\n",
    "\n",
    "words_dict= {}\n",
    "\n",
    "for key_value in pos_neg_words_dict:\n",
    "    key_value = key_value.split('=')\n",
    "    words_dict[key_value[0]] = key_value[1]\n",
    "    \n",
    "words_dict"
   ]
  },
  {
   "cell_type": "code",
   "execution_count": 36,
   "metadata": {},
   "outputs": [],
   "source": [
    "def my_tokenizer(s):\n",
    "    s = s.lower() # downcase\n",
    "    tokens = nltk.tokenize.word_tokenize(s) # split string into words (tokens)\n",
    "    tokens = [t for t in tokens if len(t) > 2] # remove short words, they're probably not useful\n",
    "    tokens = [wordnet_lemmatizer.lemmatize(t) for t in tokens] # put words into base form\n",
    "    tokens = [t for t in tokens if t not in stopwords.words('english')] # remove stopwords\n",
    "    return tokens"
   ]
  },
  {
   "cell_type": "code",
   "execution_count": 29,
   "metadata": {},
   "outputs": [],
   "source": [
    "def bag_of_words(tokenized_words, list_of_words):\n",
    "    return ([True for word in tokenized_words if word in list_of_words])"
   ]
  },
  {
   "cell_type": "code",
   "execution_count": null,
   "metadata": {},
   "outputs": [],
   "source": []
  },
  {
   "cell_type": "code",
   "execution_count": 37,
   "metadata": {},
   "outputs": [],
   "source": [
    "positive_sentiment = []\n",
    "negative_sentiment = []\n",
    "\n",
    "for sent in input_data_list:\n",
    "    tokens = my_tokenizer(sent)\n",
    "\n",
    "    if bag_of_words(tokens, words_dict['pos_words']):\n",
    "        positive_sentiment.append(sent)\n",
    "    \n",
    "    else:\n",
    "        negative_sentiment.append(sent)\n"
   ]
  },
  {
   "cell_type": "code",
   "execution_count": 38,
   "metadata": {},
   "outputs": [
    {
     "data": {
      "text/plain": [
       "['Rose is beautiful.',\n",
       " 'This is the beauty of this technique.',\n",
       " 'Concept is explained beautifully in this book.',\n",
       " 'Its the supreme place to stay.',\n",
       " 'Dessert is awesome.',\n",
       " 'Your gift is wonderful.']"
      ]
     },
     "execution_count": 38,
     "metadata": {},
     "output_type": "execute_result"
    }
   ],
   "source": [
    "positive_sentiment \n"
   ]
  },
  {
   "cell_type": "code",
   "execution_count": 39,
   "metadata": {},
   "outputs": [
    {
     "data": {
      "text/plain": [
       "['Place is nasty to stay.',\n",
       " 'He annoyed me.',\n",
       " 'I hate this place.',\n",
       " 'Dont annoy the customer.',\n",
       " 'He has given nasty comments about his stay.']"
      ]
     },
     "execution_count": 39,
     "metadata": {},
     "output_type": "execute_result"
    }
   ],
   "source": [
    "negative_sentiment"
   ]
  },
  {
   "cell_type": "code",
   "execution_count": null,
   "metadata": {},
   "outputs": [],
   "source": []
  }
 ],
 "metadata": {
  "kernelspec": {
   "display_name": "Python 2",
   "language": "python",
   "name": "python2"
  },
  "language_info": {
   "codemirror_mode": {
    "name": "ipython",
    "version": 2
   },
   "file_extension": ".py",
   "mimetype": "text/x-python",
   "name": "python",
   "nbconvert_exporter": "python",
   "pygments_lexer": "ipython2",
   "version": "2.7.11"
  }
 },
 "nbformat": 4,
 "nbformat_minor": 2
}
