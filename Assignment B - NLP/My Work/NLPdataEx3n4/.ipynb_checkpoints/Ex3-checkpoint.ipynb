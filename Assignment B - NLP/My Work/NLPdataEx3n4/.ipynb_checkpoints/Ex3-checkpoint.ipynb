{
 "cells": [
  {
   "cell_type": "code",
   "execution_count": 40,
   "metadata": {},
   "outputs": [],
   "source": [
    "import nltk\n",
    "from nltk.tag import pos_tag\n",
    "from nltk.tokenize import word_tokenize\n",
    "from nltk.chunk import ne_chunk\n"
   ]
  },
  {
   "cell_type": "code",
   "execution_count": 41,
   "metadata": {},
   "outputs": [],
   "source": [
    "f = open('data_in.txt') "
   ]
  },
  {
   "cell_type": "code",
   "execution_count": 67,
   "metadata": {},
   "outputs": [],
   "source": [
    "input_data = f.readlines()\n"
   ]
  },
  {
   "cell_type": "code",
   "execution_count": 63,
   "metadata": {},
   "outputs": [
    {
     "name": "stdout",
     "output_type": "stream",
     "text": [
      "['Hello there, how are you? Weather is awesome. Its raining here now.\\n', 'Hello Mr. Raja, how are you? Weather is awesome. Its raining here now.\\n', 'Hello Mr. Raja, how are you. Weather is bad. Its heavily raining here now.\\n', 'NLP is great technique. It is nice to learn this technique.\\n', 'AI is making difference in this world now.  It would be helpful for betterment of human life. We need to make advantage of that.\\n']\n",
      "<type 'list'>\n",
      "Hello there, how are you? Weather is awesome. Its raining here now.\n",
      "Hello Mr. Raja, how are you? Weather is awesome. Its raining here now.\n",
      "Hello Mr. Raja, how are you. Weather is bad. Its heavily raining here now.\n",
      "NLP is great technique. It is nice to learn this technique.\n",
      "AI is making difference in this world now.  It would be helpful for betterment of human life. We need to make advantage of that.\n",
      "\n"
     ]
    }
   ],
   "source": [
    "print input_data\n",
    "\n",
    "clean_data = ''\n",
    "for sentence in input_data:\n",
    "    clean_data += sentence\n",
    "\n",
    "print clean_data"
   ]
  },
  {
   "cell_type": "code",
   "execution_count": 64,
   "metadata": {},
   "outputs": [
    {
     "name": "stdout",
     "output_type": "stream",
     "text": [
      "[('Hello', 'NNP'), ('there', 'RB'), (',', ','), ('how', 'WRB'), ('are', 'VBP'), ('you', 'PRP'), ('?', '.'), ('Weather', \"''\"), ('is', 'VBZ'), ('awesome', 'JJ'), ('.', '.'), ('Its', 'PRP$'), ('raining', 'VBG'), ('here', 'RB'), ('now', 'RB'), ('.', '.'), ('Hello', 'NNP'), ('Mr.', 'NNP'), ('Raja', 'NNP'), (',', ','), ('how', 'WRB'), ('are', 'VBP'), ('you', 'PRP'), ('?', '.'), ('Weather', \"''\"), ('is', 'VBZ'), ('awesome', 'JJ'), ('.', '.'), ('Its', 'PRP$'), ('raining', 'VBG'), ('here', 'RB'), ('now', 'RB'), ('.', '.'), ('Hello', 'NNP'), ('Mr.', 'NNP'), ('Raja', 'NNP'), (',', ','), ('how', 'WRB'), ('are', 'VBP'), ('you', 'PRP'), ('.', '.'), ('Weather', 'CC'), ('is', 'VBZ'), ('bad', 'JJ'), ('.', '.'), ('Its', 'PRP$'), ('heavily', 'RB'), ('raining', 'VBG'), ('here', 'RB'), ('now', 'RB'), ('.', '.'), ('NLP', 'NNP'), ('is', 'VBZ'), ('great', 'JJ'), ('technique', 'NN'), ('.', '.'), ('It', 'PRP'), ('is', 'VBZ'), ('nice', 'JJ'), ('to', 'TO'), ('learn', 'VB'), ('this', 'DT'), ('technique', 'NN'), ('.', '.'), ('AI', 'NNP'), ('is', 'VBZ'), ('making', 'VBG'), ('difference', 'NN'), ('in', 'IN'), ('this', 'DT'), ('world', 'NN'), ('now', 'RB'), ('.', '.'), ('It', 'PRP'), ('would', 'MD'), ('be', 'VB'), ('helpful', 'JJ'), ('for', 'IN'), ('betterment', 'NN'), ('of', 'IN'), ('human', 'JJ'), ('life', 'NN'), ('.', '.'), ('We', 'PRP'), ('need', 'VBP'), ('to', 'TO'), ('make', 'VB'), ('advantage', 'NN'), ('of', 'IN'), ('that', 'DT'), ('.', '.')]\n"
     ]
    }
   ],
   "source": [
    "\n",
    "pos_words = pos_tag(word_tokenize(clean_data))\n",
    "print pos_words\n"
   ]
  },
  {
   "cell_type": "code",
   "execution_count": null,
   "metadata": {},
   "outputs": [],
   "source": []
  },
  {
   "cell_type": "code",
   "execution_count": null,
   "metadata": {},
   "outputs": [],
   "source": []
  },
  {
   "cell_type": "code",
   "execution_count": 65,
   "metadata": {},
   "outputs": [
    {
     "name": "stdout",
     "output_type": "stream",
     "text": [
      "(S\n",
      "  (GPE Hello/NNP)\n",
      "  there/RB\n",
      "  ,/,\n",
      "  how/WRB\n",
      "  are/VBP\n",
      "  you/PRP\n",
      "  ?/.\n",
      "  Weather/''\n",
      "  is/VBZ\n",
      "  awesome/JJ\n",
      "  ./.\n",
      "  Its/PRP$\n",
      "  raining/VBG\n",
      "  here/RB\n",
      "  now/RB\n",
      "  ./.\n",
      "  (PERSON Hello/NNP Mr./NNP Raja/NNP)\n",
      "  ,/,\n",
      "  how/WRB\n",
      "  are/VBP\n",
      "  you/PRP\n",
      "  ?/.\n",
      "  Weather/''\n",
      "  is/VBZ\n",
      "  awesome/JJ\n",
      "  ./.\n",
      "  Its/PRP$\n",
      "  raining/VBG\n",
      "  here/RB\n",
      "  now/RB\n",
      "  ./.\n",
      "  (PERSON Hello/NNP Mr./NNP Raja/NNP)\n",
      "  ,/,\n",
      "  how/WRB\n",
      "  are/VBP\n",
      "  you/PRP\n",
      "  ./.\n",
      "  Weather/CC\n",
      "  is/VBZ\n",
      "  bad/JJ\n",
      "  ./.\n",
      "  Its/PRP$\n",
      "  heavily/RB\n",
      "  raining/VBG\n",
      "  here/RB\n",
      "  now/RB\n",
      "  ./.\n",
      "  (ORGANIZATION NLP/NNP)\n",
      "  is/VBZ\n",
      "  great/JJ\n",
      "  technique/NN\n",
      "  ./.\n",
      "  It/PRP\n",
      "  is/VBZ\n",
      "  nice/JJ\n",
      "  to/TO\n",
      "  learn/VB\n",
      "  this/DT\n",
      "  technique/NN\n",
      "  ./.\n",
      "  AI/NNP\n",
      "  is/VBZ\n",
      "  making/VBG\n",
      "  difference/NN\n",
      "  in/IN\n",
      "  this/DT\n",
      "  world/NN\n",
      "  now/RB\n",
      "  ./.\n",
      "  It/PRP\n",
      "  would/MD\n",
      "  be/VB\n",
      "  helpful/JJ\n",
      "  for/IN\n",
      "  betterment/NN\n",
      "  of/IN\n",
      "  human/JJ\n",
      "  life/NN\n",
      "  ./.\n",
      "  We/PRP\n",
      "  need/VBP\n",
      "  to/TO\n",
      "  make/VB\n",
      "  advantage/NN\n",
      "  of/IN\n",
      "  that/DT\n",
      "  ./.)\n"
     ]
    }
   ],
   "source": [
    "chunk_sentence = ne_chunk(pos_words)\n",
    "print (chunk_sentence)\n",
    "chunk_sentence.draw()"
   ]
  },
  {
   "cell_type": "code",
   "execution_count": null,
   "metadata": {},
   "outputs": [],
   "source": []
  }
 ],
 "metadata": {
  "kernelspec": {
   "display_name": "Python 2",
   "language": "python",
   "name": "python2"
  },
  "language_info": {
   "codemirror_mode": {
    "name": "ipython",
    "version": 2
   },
   "file_extension": ".py",
   "mimetype": "text/x-python",
   "name": "python",
   "nbconvert_exporter": "python",
   "pygments_lexer": "ipython2",
   "version": "2.7.11"
  }
 },
 "nbformat": 4,
 "nbformat_minor": 2
}
