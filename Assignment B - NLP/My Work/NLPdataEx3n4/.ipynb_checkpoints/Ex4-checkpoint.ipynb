{
 "cells": [
  {
   "cell_type": "code",
   "execution_count": 1,
   "metadata": {},
   "outputs": [],
   "source": [
    "import nltk\n",
    "import string\n",
    "from nltk.tokenize import word_tokenize\n",
    "from nltk.stem import PorterStemmer\n",
    "ps = PorterStemmer()\n",
    "from nltk.corpus import stopwords\n"
   ]
  },
  {
   "cell_type": "code",
   "execution_count": 9,
   "metadata": {},
   "outputs": [
    {
     "name": "stdout",
     "output_type": "stream",
     "text": [
      "NLTK Downloader\n",
      "---------------------------------------------------------------------------\n",
      "    d) Download   l) List    u) Update   c) Config   h) Help   q) Quit\n",
      "---------------------------------------------------------------------------\n",
      "Downloader> d\n",
      "\n",
      "Download which package (l=list; x=cancel)?\n",
      "  Identifier> l\n",
      "Packages:\n",
      "Error connecting to server: [Errno 10054] An existing connection was forcibly closed by the remote host\n",
      "\n",
      "---------------------------------------------------------------------------\n",
      "    d) Download   l) List    u) Update   c) Config   h) Help   q) Quit\n",
      "---------------------------------------------------------------------------\n",
      "Downloader> q\n"
     ]
    }
   ],
   "source": [
    "#download stopwords\n",
    "#nltk.download_shell()\n",
    "#ran command \"python -m nltk.downloader all\" to get all packages at once"
   ]
  },
  {
   "cell_type": "code",
   "execution_count": null,
   "metadata": {},
   "outputs": [],
   "source": []
  },
  {
   "cell_type": "code",
   "execution_count": 8,
   "metadata": {},
   "outputs": [],
   "source": [
    "f = open('data_in.txt') "
   ]
  },
  {
   "cell_type": "code",
   "execution_count": 9,
   "metadata": {},
   "outputs": [
    {
     "name": "stdout",
     "output_type": "stream",
     "text": [
      "Hello there, how are you? Weather is awesome. Its raining here now.\n",
      "Hello Mr. Raja, how are you? Weather is awesome. Its raining here now.\n",
      "Hello Mr. Raja, how are you. Weather is bad. Its heavily raining here now.\n",
      "NLP is great technique. It is nice to learn this technique.\n",
      "AI is making difference in this world now.  It would be helpful for betterment of human life. We need to make advantage of that.\n",
      "\n"
     ]
    }
   ],
   "source": [
    "input_data = f.read()\n",
    "print input_data"
   ]
  },
  {
   "cell_type": "code",
   "execution_count": null,
   "metadata": {},
   "outputs": [],
   "source": [
    "\n"
   ]
  },
  {
   "cell_type": "code",
   "execution_count": 5,
   "metadata": {},
   "outputs": [],
   "source": [
    "#Let's create a method for exclusion of stopwords"
   ]
  },
  {
   "cell_type": "code",
   "execution_count": 6,
   "metadata": {},
   "outputs": [
    {
     "name": "stdout",
     "output_type": "stream",
     "text": [
      "['Hello', 'there,', 'you?', 'Weather', 'awesome.', 'raining', 'now.', 'Hello', 'Mr.', 'Raja,', 'you?', 'Weather', 'awesome.', 'raining', 'now.', 'Hello', 'Mr.', 'Raja,', 'you.', 'Weather', 'bad.', 'heavily', 'raining', 'now.', 'NLP', 'great', 'technique.', 'nice', 'learn', 'technique.', 'AI', 'making', 'difference', 'world', 'now.', 'would', 'helpful', 'betterment', 'human', 'life.', 'need', 'make', 'advantage', 'that.']\n"
     ]
    }
   ],
   "source": [
    "def text_processor(message):\n",
    "    nopunc = [char for char in message if char not in string.punctuation]\n",
    "    nopunc = ''.join(nopunc)\n",
    "    return [word for word in nopunc.split() if word.lower() not in stopwords.words('english')]\n",
    "\n",
    "\n",
    "\n",
    "clean_input_data = text_processor(input_data)\n",
    "print clean_input_data\n",
    "\n"
   ]
  },
  {
   "cell_type": "code",
   "execution_count": 3,
   "metadata": {},
   "outputs": [],
   "source": []
  },
  {
   "cell_type": "code",
   "execution_count": 18,
   "metadata": {},
   "outputs": [],
   "source": [
    "#Now applying stemming\n",
    "\n",
    "stemmed_data = [ps.stem(word) for word in clean_input_data]"
   ]
  },
  {
   "cell_type": "code",
   "execution_count": 19,
   "metadata": {},
   "outputs": [
    {
     "name": "stdout",
     "output_type": "stream",
     "text": [
      "['hello', 'there,', 'you?', 'weather', 'awesome.', u'rain', 'now.', 'hello', 'mr.', 'raja,', 'you?', 'weather', 'awesome.', u'rain', 'now.', 'hello', 'mr.', 'raja,', 'you.', 'weather', 'bad.', u'heavili', u'rain', 'now.', 'nlp', 'great', 'technique.', 'nice', 'learn', 'technique.', 'AI', u'make', u'differ', 'world', 'now.', 'would', u'help', u'better', 'human', 'life.', 'need', 'make', u'advantag', 'that.']\n"
     ]
    }
   ],
   "source": [
    "print stemmed_data"
   ]
  },
  {
   "cell_type": "code",
   "execution_count": 23,
   "metadata": {},
   "outputs": [
    {
     "name": "stdout",
     "output_type": "stream",
     "text": [
      "['Hello', 'there,', 'you?', 'Weather', 'awesome.', 'raining', 'now.', 'Hello', 'Mr.', 'Raja,', 'you?', 'Weather', 'awesome.', 'raining', 'now.', 'Hello', 'Mr.', 'Raja,', 'you.', 'Weather', 'bad.', 'heavily', 'raining', 'now.', 'NLP', 'great', 'technique.', 'nice', 'learn', 'technique.', 'AI', 'making', 'difference', 'world', 'now.', 'would', 'helpful', 'betterment', 'human', 'life.', 'need', 'make', 'advantage', 'that.']\n"
     ]
    }
   ],
   "source": [
    "#Now applying lemmatizing\n",
    "\n",
    "from nltk import stem\n",
    "wordnet_lemat = stem.WordNetLemmatizer()\n",
    "\n",
    "lemmatized_data = [wordnet_lemat.lemmatize(word) for word in clean_input_data]\n",
    "\n",
    "print lemmatized_data"
   ]
  },
  {
   "cell_type": "code",
   "execution_count": null,
   "metadata": {},
   "outputs": [],
   "source": []
  },
  {
   "cell_type": "code",
   "execution_count": null,
   "metadata": {},
   "outputs": [],
   "source": [
    "#AS we compare the both results, we can see that stemmed data does not have the verb+'ing' form of the words "
   ]
  }
 ],
 "metadata": {
  "kernelspec": {
   "display_name": "Python 2",
   "language": "python",
   "name": "python2"
  },
  "language_info": {
   "codemirror_mode": {
    "name": "ipython",
    "version": 2
   },
   "file_extension": ".py",
   "mimetype": "text/x-python",
   "name": "python",
   "nbconvert_exporter": "python",
   "pygments_lexer": "ipython2",
   "version": "2.7.11"
  }
 },
 "nbformat": 4,
 "nbformat_minor": 2
}
