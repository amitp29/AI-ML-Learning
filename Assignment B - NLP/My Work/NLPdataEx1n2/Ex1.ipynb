{
 "cells": [
  {
   "cell_type": "code",
   "execution_count": 15,
   "metadata": {},
   "outputs": [],
   "source": [
    "import nltk\n",
    "from nltk.chunk import ne_chunk\n",
    "from nltk.tokenize import sent_tokenize\n",
    "import pandas as pd"
   ]
  },
  {
   "cell_type": "code",
   "execution_count": null,
   "metadata": {},
   "outputs": [],
   "source": [
    "#nltk.download_shell() -> was run and below commented packages were downloaded due to errors"
   ]
  },
  {
   "cell_type": "code",
   "execution_count": null,
   "metadata": {},
   "outputs": [],
   "source": [
    "#punkt, averaged_perceptron_tagger, maxent_ne_chunker, words"
   ]
  },
  {
   "cell_type": "code",
   "execution_count": 16,
   "metadata": {},
   "outputs": [],
   "source": [
    "df = pd.read_csv('data_in.csv')"
   ]
  },
  {
   "cell_type": "code",
   "execution_count": 17,
   "metadata": {},
   "outputs": [
    {
     "data": {
      "text/html": [
       "<div>\n",
       "<style scoped>\n",
       "    .dataframe tbody tr th:only-of-type {\n",
       "        vertical-align: middle;\n",
       "    }\n",
       "\n",
       "    .dataframe tbody tr th {\n",
       "        vertical-align: top;\n",
       "    }\n",
       "\n",
       "    .dataframe thead th {\n",
       "        text-align: right;\n",
       "    }\n",
       "</style>\n",
       "<table border=\"1\" class=\"dataframe\">\n",
       "  <thead>\n",
       "    <tr style=\"text-align: right;\">\n",
       "      <th></th>\n",
       "      <th>Comment</th>\n",
       "    </tr>\n",
       "  </thead>\n",
       "  <tbody>\n",
       "    <tr>\n",
       "      <th>0</th>\n",
       "      <td>\"Hello there, how are you? Weather is awesome....</td>\n",
       "    </tr>\n",
       "    <tr>\n",
       "      <th>1</th>\n",
       "      <td>\"Hello Mr. Raja, how are you? Weather is aweso...</td>\n",
       "    </tr>\n",
       "    <tr>\n",
       "      <th>2</th>\n",
       "      <td>\"Hello Mr. Raja, how are you. Weather is bad. ...</td>\n",
       "    </tr>\n",
       "    <tr>\n",
       "      <th>3</th>\n",
       "      <td>\"NLP is great technique. It is nice to learn t...</td>\n",
       "    </tr>\n",
       "    <tr>\n",
       "      <th>4</th>\n",
       "      <td>\"AI is making difference in this world now.  I...</td>\n",
       "    </tr>\n",
       "  </tbody>\n",
       "</table>\n",
       "</div>"
      ],
      "text/plain": [
       "                                             Comment\n",
       "0  \"Hello there, how are you? Weather is awesome....\n",
       "1  \"Hello Mr. Raja, how are you? Weather is aweso...\n",
       "2  \"Hello Mr. Raja, how are you. Weather is bad. ...\n",
       "3  \"NLP is great technique. It is nice to learn t...\n",
       "4  \"AI is making difference in this world now.  I..."
      ]
     },
     "execution_count": 17,
     "metadata": {},
     "output_type": "execute_result"
    }
   ],
   "source": [
    "df.head()"
   ]
  },
  {
   "cell_type": "code",
   "execution_count": 18,
   "metadata": {},
   "outputs": [],
   "source": [
    "df['NE_chunk_Sent_tokenize'] = df['Comment'].apply(lambda word : ne_chunk((sent_tokenize(word))) )\n",
    "\n"
   ]
  },
  {
   "cell_type": "code",
   "execution_count": 19,
   "metadata": {},
   "outputs": [
    {
     "data": {
      "text/html": [
       "<div>\n",
       "<style scoped>\n",
       "    .dataframe tbody tr th:only-of-type {\n",
       "        vertical-align: middle;\n",
       "    }\n",
       "\n",
       "    .dataframe tbody tr th {\n",
       "        vertical-align: top;\n",
       "    }\n",
       "\n",
       "    .dataframe thead th {\n",
       "        text-align: right;\n",
       "    }\n",
       "</style>\n",
       "<table border=\"1\" class=\"dataframe\">\n",
       "  <thead>\n",
       "    <tr style=\"text-align: right;\">\n",
       "      <th></th>\n",
       "      <th>Comment</th>\n",
       "      <th>NE_chunk_Sent_tokenize</th>\n",
       "    </tr>\n",
       "  </thead>\n",
       "  <tbody>\n",
       "    <tr>\n",
       "      <th>0</th>\n",
       "      <td>\"Hello there, how are you? Weather is awesome....</td>\n",
       "      <td>[\"Hello there, how are you?, Weather is awesom...</td>\n",
       "    </tr>\n",
       "    <tr>\n",
       "      <th>1</th>\n",
       "      <td>\"Hello Mr. Raja, how are you? Weather is aweso...</td>\n",
       "      <td>[\"Hello Mr. Raja, how are you?, Weather is awe...</td>\n",
       "    </tr>\n",
       "    <tr>\n",
       "      <th>2</th>\n",
       "      <td>\"Hello Mr. Raja, how are you. Weather is bad. ...</td>\n",
       "      <td>[\"Hello Mr. Raja, how are you., Weather is bad...</td>\n",
       "    </tr>\n",
       "    <tr>\n",
       "      <th>3</th>\n",
       "      <td>\"NLP is great technique. It is nice to learn t...</td>\n",
       "      <td>[\"NLP is great technique., It is nice to learn...</td>\n",
       "    </tr>\n",
       "    <tr>\n",
       "      <th>4</th>\n",
       "      <td>\"AI is making difference in this world now.  I...</td>\n",
       "      <td>[\"AI is making difference in this world now., ...</td>\n",
       "    </tr>\n",
       "  </tbody>\n",
       "</table>\n",
       "</div>"
      ],
      "text/plain": [
       "                                             Comment  \\\n",
       "0  \"Hello there, how are you? Weather is awesome....   \n",
       "1  \"Hello Mr. Raja, how are you? Weather is aweso...   \n",
       "2  \"Hello Mr. Raja, how are you. Weather is bad. ...   \n",
       "3  \"NLP is great technique. It is nice to learn t...   \n",
       "4  \"AI is making difference in this world now.  I...   \n",
       "\n",
       "                              NE_chunk_Sent_tokenize  \n",
       "0  [\"Hello there, how are you?, Weather is awesom...  \n",
       "1  [\"Hello Mr. Raja, how are you?, Weather is awe...  \n",
       "2  [\"Hello Mr. Raja, how are you., Weather is bad...  \n",
       "3  [\"NLP is great technique., It is nice to learn...  \n",
       "4  [\"AI is making difference in this world now., ...  "
      ]
     },
     "execution_count": 19,
     "metadata": {},
     "output_type": "execute_result"
    }
   ],
   "source": [
    "df.head()"
   ]
  },
  {
   "cell_type": "code",
   "execution_count": 20,
   "metadata": {},
   "outputs": [
    {
     "data": {
      "text/plain": [
       "0    [\"Hello there, how are you?, Weather is awesom...\n",
       "1    [\"Hello Mr. Raja, how are you?, Weather is awe...\n",
       "2    [\"Hello Mr. Raja, how are you., Weather is bad...\n",
       "3    [\"NLP is great technique., It is nice to learn...\n",
       "4    [\"AI is making difference in this world now., ...\n",
       "Name: NE_chunk_Sent_tokenize, dtype: object"
      ]
     },
     "execution_count": 20,
     "metadata": {},
     "output_type": "execute_result"
    }
   ],
   "source": [
    "df['NE_chunk_Sent_tokenize']"
   ]
  },
  {
   "cell_type": "code",
   "execution_count": 22,
   "metadata": {},
   "outputs": [],
   "source": [
    "df.to_csv('data_out.csv', index=False)"
   ]
  },
  {
   "cell_type": "code",
   "execution_count": null,
   "metadata": {},
   "outputs": [],
   "source": []
  },
  {
   "cell_type": "code",
   "execution_count": null,
   "metadata": {},
   "outputs": [],
   "source": []
  }
 ],
 "metadata": {
  "kernelspec": {
   "display_name": "Python 2",
   "language": "python",
   "name": "python2"
  },
  "language_info": {
   "codemirror_mode": {
    "name": "ipython",
    "version": 2
   },
   "file_extension": ".py",
   "mimetype": "text/x-python",
   "name": "python",
   "nbconvert_exporter": "python",
   "pygments_lexer": "ipython2",
   "version": "2.7.11"
  }
 },
 "nbformat": 4,
 "nbformat_minor": 2
}
