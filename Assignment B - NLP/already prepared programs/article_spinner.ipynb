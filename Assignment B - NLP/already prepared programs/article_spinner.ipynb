{
 "cells": [
  {
   "cell_type": "code",
   "execution_count": 1,
   "metadata": {},
   "outputs": [
    {
     "ename": "ImportError",
     "evalue": "cannot import name BeautifulSoup4",
     "output_type": "error",
     "traceback": [
      "\u001b[1;31m---------------------------------------------------------------------------\u001b[0m",
      "\u001b[1;31mImportError\u001b[0m                               Traceback (most recent call last)",
      "\u001b[1;32m<ipython-input-1-4b3f255fa99f>\u001b[0m in \u001b[0;36m<module>\u001b[1;34m()\u001b[0m\n\u001b[0;32m      7\u001b[0m \u001b[1;33m\u001b[0m\u001b[0m\n\u001b[0;32m      8\u001b[0m \u001b[1;31m#Need to import BeautifulSoup library to parse the html/xml file contents\u001b[0m\u001b[1;33m\u001b[0m\u001b[1;33m\u001b[0m\u001b[0m\n\u001b[1;32m----> 9\u001b[1;33m \u001b[1;32mfrom\u001b[0m \u001b[0mbs4\u001b[0m \u001b[1;32mimport\u001b[0m \u001b[0mBeautifulSoup4\u001b[0m\u001b[1;33m\u001b[0m\u001b[0m\n\u001b[0m\u001b[0;32m     10\u001b[0m \u001b[1;33m\u001b[0m\u001b[0m\n\u001b[0;32m     11\u001b[0m \u001b[1;31m# load the positive reviews\u001b[0m\u001b[1;33m\u001b[0m\u001b[1;33m\u001b[0m\u001b[0m\n",
      "\u001b[1;31mImportError\u001b[0m: cannot import name BeautifulSoup4"
     ]
    }
   ],
   "source": [
    "# anilkumar.ganesh@wipro.com\n",
    "#A simple article spinner in python using trigrams.\n",
    "\n",
    "import nltk\n",
    "import random\n",
    "import numpy as np\n",
    "\n",
    "#Need to import BeautifulSoup library to parse the html/xml file contents\n",
    "from bs4 import BeautifulSoup\n",
    "\n",
    "# load the positive reviews\n",
    "# data courtesy of http://www.cs.jhu.edu/~mdredze/datasets/sentiment/index2.html\n",
    "positive_reviews = BeautifulSoup(open('electronics/positive.review').read(), \"lxml\")\n",
    "positive_reviews = positive_reviews.findAll('review_text')\n",
    "\n",
    "# extract trigrams and insert into dictionary\n",
    "# (w1, w3) is the key, [ w2 ] are the values\n",
    "#Create the dictionary\n",
    "trigrams = {}\n",
    "for review in positive_reviews:\n",
    "    s = review.text.lower()\n",
    "    tokens = nltk.tokenize.word_tokenize(s)\n",
    "    for i in range(len(tokens) - 2):\n",
    "        k = (tokens[i], tokens[i+2])\n",
    "        if k not in trigrams:\n",
    "            trigrams[k] = []\n",
    "        trigrams[k].append(tokens[i+1])\n",
    "\n",
    "#print (trigrams) #(execute on command line)\n",
    "\n",
    "#trigrams (execute on command line to check the trigrams on ipython command line)\n",
    "# turn each array of middle-words into a probability vector\n",
    "trigram_probabilities = {}\n",
    "for k, words in trigrams.items():\n",
    "    # create a dictionary of word -> count\n",
    "    if len(set(words)) > 1:\n",
    "        # only do this when there are different possibilities for a middle word\n",
    "        d = {}\n",
    "        n = 0\n",
    "        for w in words:\n",
    "            if w not in d:\n",
    "                d[w] = 0\n",
    "            d[w] += 1\n",
    "            n += 1\n",
    "        for w, c in d.items():\n",
    "            d[w] = float(c) / n\n",
    "        trigram_probabilities[k] = d\n",
    "\n",
    "#print (trigram_probabilities) #(execute on command line)\n",
    "\n",
    "def random_sample(d):\n",
    "    # choose a random sample from dictionary where values are the probabilities\n",
    "    r = random.random()\n",
    "    cumulative = 0\n",
    "    for w, p in d.items():\n",
    "        cumulative += p\n",
    "        if r < cumulative:\n",
    "            return w\n",
    "\n",
    "\n",
    "def test_spinner():\n",
    "    review = random.choice(positive_reviews)\n",
    "    s = review.text.lower()\n",
    "    print (\"Original:\", s)\n",
    "    tokens = nltk.tokenize.word_tokenize(s)\n",
    "    for i in range(len(tokens) - 2):\n",
    "        if random.random() < 0.2: # 20% chance of replacement\n",
    "            k = (tokens[i], tokens[i+2])\n",
    "            if k in trigram_probabilities:\n",
    "                w = random_sample(trigram_probabilities[k])\n",
    "                tokens[i+1] = w\n",
    "    print (\"Spun:\")\n",
    "    print (\" \".join(tokens).replace(\" .\", \".\").replace(\" '\", \"'\").replace(\" ,\", \",\").replace(\"$ \", \"$\").replace(\" !\", \"!\"))\n",
    "\n",
    "test_spinner()\n"
   ]
  },
  {
   "cell_type": "code",
   "execution_count": null,
   "metadata": {},
   "outputs": [],
   "source": []
  }
 ],
 "metadata": {
  "kernelspec": {
   "display_name": "Python 2",
   "language": "python",
   "name": "python2"
  },
  "language_info": {
   "codemirror_mode": {
    "name": "ipython",
    "version": 2
   },
   "file_extension": ".py",
   "mimetype": "text/x-python",
   "name": "python",
   "nbconvert_exporter": "python",
   "pygments_lexer": "ipython2",
   "version": "2.7.11"
  }
 },
 "nbformat": 4,
 "nbformat_minor": 2
}
