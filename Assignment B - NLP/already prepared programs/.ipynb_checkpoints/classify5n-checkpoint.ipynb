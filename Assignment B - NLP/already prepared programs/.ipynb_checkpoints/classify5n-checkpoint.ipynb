{
 "cells": [
  {
   "cell_type": "code",
   "execution_count": null,
   "metadata": {},
   "outputs": [],
   "source": [
    "from nltk.chunk import ne_chunk\n",
    "from nltk.tokenize import word_tokenize\n",
    "from nltk.tag import pos_tag\n",
    "\n",
    "def bag_of_words(words):\n",
    "    return dict([(word, True) for word in words])\n",
    "feats = bag_of_words(word_tokenize(\"great movie\"))\n",
    "import nltk.data\n",
    "classifier = nltk.data.load('classifiers movie_reviews_NaiveBayes.pickle')\n",
    "classifier.classify(feats)\n",
    "        "
   ]
  }
 ],
 "metadata": {
  "kernelspec": {
   "display_name": "Python 2",
   "language": "python",
   "name": "python2"
  },
  "language_info": {
   "codemirror_mode": {
    "name": "ipython",
    "version": 2
   },
   "file_extension": ".py",
   "mimetype": "text/x-python",
   "name": "python",
   "nbconvert_exporter": "python",
   "pygments_lexer": "ipython2",
   "version": "2.7.11"
  }
 },
 "nbformat": 4,
 "nbformat_minor": 2
}
