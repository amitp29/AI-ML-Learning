{
 "cells": [
  {
   "cell_type": "code",
   "execution_count": 32,
   "metadata": {},
   "outputs": [],
   "source": [
    "import nltk\n",
    "import random\n",
    "import numpy as np"
   ]
  },
  {
   "cell_type": "code",
   "execution_count": 33,
   "metadata": {},
   "outputs": [],
   "source": [
    "f = open('article.txt')"
   ]
  },
  {
   "cell_type": "code",
   "execution_count": 34,
   "metadata": {},
   "outputs": [],
   "source": [
    "input_data = f.read()"
   ]
  },
  {
   "cell_type": "code",
   "execution_count": 35,
   "metadata": {},
   "outputs": [
    {
     "name": "stdout",
     "output_type": "stream",
     "text": [
      "Engaging your visitors is vital to maintaining a long term website traffic. Modern search engines such as Google will monitor your traffic to make sure that visitors they are sending from their search results are staying for a long enough length of time as well as visiting multiple pages. Both of these metrics make a big difference as Google decides how to rank your site content. So, in other words, the visitor behavior the search engine observes will influence future rankings for your site, and the quality and quantity of your content will dictate visitor behavior.\n",
      "In the present world of cut-throat Internet marketing, you need all the help you get. So why not cut down on the time needed to create new unique content? This is probably the most time consuming part of your website building process.\n",
      "Save time writing content so you can promote your site or business in other ways. Use the time, money and energy you're saving to keep your site design looking as good as it can. Or you can use your free time to relax and unwind, it's up to you. Such is the beauty of this free if you are constantly updating with fresh textual content. The more unique, useful text you offer your visitors, the more people will stay on your site, and keep revisiting over the long haul. Offering your visitors an unlimited flow of fresh content is the best long term strategy for securing 'sticky' traffic to your website or blog. If you are focusing repeatedly on related subject matter (which you should be doing if you are focusing on a limited niche) then you would do well from an SEO perspective to cover a wide range of different ways to talk about that subject matter. \n"
     ]
    }
   ],
   "source": [
    "print input_data"
   ]
  },
  {
   "cell_type": "code",
   "execution_count": 36,
   "metadata": {},
   "outputs": [
    {
     "name": "stdout",
     "output_type": "stream",
     "text": [
      "s........ engaging your visitors is vital to maintaining a long term website traffic. modern search engines such as google will monitor your traffic to make sure that visitors they are sending from their search results are staying for a long enough length of time as well as visiting multiple pages. both of these metrics make a big difference as google decides how to rank your site content. so, in other words, the visitor behavior the search engine observes will influence future rankings for your site, and the quality and quantity of your content will dictate visitor behavior.\n",
      "tokens ['engaging', 'your', 'visitors', 'is', 'vital', 'to', 'maintaining', 'a', 'long', 'term', 'website', 'traffic', '.', 'modern', 'search', 'engines', 'such', 'as', 'google', 'will', 'monitor', 'your', 'traffic', 'to', 'make', 'sure', 'that', 'visitors', 'they', 'are', 'sending', 'from', 'their', 'search', 'results', 'are', 'staying', 'for', 'a', 'long', 'enough', 'length', 'of', 'time', 'as', 'well', 'as', 'visiting', 'multiple', 'pages', '.', 'both', 'of', 'these', 'metrics', 'make', 'a', 'big', 'difference', 'as', 'google', 'decides', 'how', 'to', 'rank', 'your', 'site', 'content', '.', 'so', ',', 'in', 'other', 'words', ',', 'the', 'visitor', 'behavior', 'the', 'search', 'engine', 'observes', 'will', 'influence', 'future', 'rankings', 'for', 'your', 'site', ',', 'and', 'the', 'quality', 'and', 'quantity', 'of', 'your', 'content', 'will', 'dictate', 'visitor', 'behavior', '.']\n",
      "s........ in the present world of cut-throat internet marketing, you need all the help you get. so why not cut down on the time needed to create new unique content? this is probably the most time consuming part of your website building process.\n",
      "tokens ['in', 'the', 'present', 'world', 'of', 'cut-throat', 'internet', 'marketing', ',', 'you', 'need', 'all', 'the', 'help', 'you', 'get', '.', 'so', 'why', 'not', 'cut', 'down', 'on', 'the', 'time', 'needed', 'to', 'create', 'new', 'unique', 'content', '?', 'this', 'is', 'probably', 'the', 'most', 'time', 'consuming', 'part', 'of', 'your', 'website', 'building', 'process', '.']\n",
      "s........ save time writing content so you can promote your site or business in other ways. use the time, money and energy you're saving to keep your site design looking as good as it can. or you can use your free time to relax and unwind, it's up to you. such is the beauty of this free if you are constantly updating with fresh textual content. the more unique, useful text you offer your visitors, the more people will stay on your site, and keep revisiting over the long haul. offering your visitors an unlimited flow of fresh content is the best long term strategy for securing 'sticky' traffic to your website or blog. if you are focusing repeatedly on related subject matter (which you should be doing if you are focusing on a limited niche) then you would do well from an seo perspective to cover a wide range of different ways to talk about that subject matter. \n",
      "tokens ['save', 'time', 'writing', 'content', 'so', 'you', 'can', 'promote', 'your', 'site', 'or', 'business', 'in', 'other', 'ways', '.', 'use', 'the', 'time', ',', 'money', 'and', 'energy', 'you', \"'re\", 'saving', 'to', 'keep', 'your', 'site', 'design', 'looking', 'as', 'good', 'as', 'it', 'can', '.', 'or', 'you', 'can', 'use', 'your', 'free', 'time', 'to', 'relax', 'and', 'unwind', ',', 'it', \"'s\", 'up', 'to', 'you', '.', 'such', 'is', 'the', 'beauty', 'of', 'this', 'free', 'if', 'you', 'are', 'constantly', 'updating', 'with', 'fresh', 'textual', 'content', '.', 'the', 'more', 'unique', ',', 'useful', 'text', 'you', 'offer', 'your', 'visitors', ',', 'the', 'more', 'people', 'will', 'stay', 'on', 'your', 'site', ',', 'and', 'keep', 'revisiting', 'over', 'the', 'long', 'haul', '.', 'offering', 'your', 'visitors', 'an', 'unlimited', 'flow', 'of', 'fresh', 'content', 'is', 'the', 'best', 'long', 'term', 'strategy', 'for', 'securing', \"'sticky\", \"'\", 'traffic', 'to', 'your', 'website', 'or', 'blog', '.', 'if', 'you', 'are', 'focusing', 'repeatedly', 'on', 'related', 'subject', 'matter', '(', 'which', 'you', 'should', 'be', 'doing', 'if', 'you', 'are', 'focusing', 'on', 'a', 'limited', 'niche', ')', 'then', 'you', 'would', 'do', 'well', 'from', 'an', 'seo', 'perspective', 'to', 'cover', 'a', 'wide', 'range', 'of', 'different', 'ways', 'to', 'talk', 'about', 'that', 'subject', 'matter', '.']\n"
     ]
    }
   ],
   "source": [
    "# extract trigrams and insert into dictionary\n",
    "# (w1, w3) is the key, [ w2 ] are the values\n",
    "#Create the dictionary\n",
    "input_data_list =  input_data.split('\\n')\n",
    "trigrams = {}\n",
    "for paragraph in input_data_list:\n",
    "    s = paragraph.lower()\n",
    "    print 's........',s\n",
    "    tokens = nltk.tokenize.word_tokenize(s)\n",
    "    print 'tokens',tokens\n",
    "    for i in range(len(tokens) - 2):\n",
    "        k = (tokens[i], tokens[i+2])\n",
    "        if k not in trigrams:\n",
    "            trigrams[k] = []\n",
    "        trigrams[k].append(tokens[i+1])\n",
    "\n",
    "#print (trigrams) #(execute on command line)"
   ]
  },
  {
   "cell_type": "code",
   "execution_count": 37,
   "metadata": {},
   "outputs": [
    {
     "name": "stdout",
     "output_type": "stream",
     "text": [
      "{('get', 'so'): ['.'], ('this', 'probably'): ['is'], ('not', 'down'): ['cut'], ('that', 'matter'): ['subject'], (\"'sticky\", 'traffic'): [\"'\"], ('time', 'part'): ['consuming'], ('observes', 'influence'): ['will'], ('are', 'on'): ['focusing'], ('to', 'and'): ['relax'], ('why', 'cut'): ['not'], ('will', 'your'): ['monitor'], ('or', 'can'): ['you'], ('looking', 'good'): ['as'], ('such', 'the'): ['is'], ('stay', 'your'): ['on'], ('wide', 'of'): ['range'], (',', 'visitor'): ['the'], ('all', 'help'): ['the'], ('such', 'google'): ['as'], ('talk', 'that'): ['about'], ('the', ','): ['time'], ('will', 'on'): ['stay'], ('can', 'or'): ['.'], ('quantity', 'your'): ['of'], ('new', 'content'): ['unique'], ('is', 'to'): ['vital'], ('on', 'site'): ['your'], ('help', 'get'): ['you'], ('need', 'the'): ['all'], ('traffic', 'modern'): ['.'], ('you', 'all'): ['need'], ('use', 'time'): ['the'], ('needed', 'create'): ['to'], ('cover', 'wide'): ['a'], ('your', 'time'): ['free'], ('should', 'doing'): ['be'], ('long', '.'): ['haul'], ('use', 'free'): ['your'], ('difference', 'google'): ['as'], ('the', 'world'): ['present'], ('search', 'observes'): ['engine'], ('so', 'in'): [','], ('.', ','): ['so'], ('the', 'needed'): ['time'], ('you', 'be'): ['should'], ('visitor', '.'): ['behavior'], (\"'s\", 'to'): ['up'], ('in', 'words'): ['other'], ('is', 'beauty'): ['the'], ('in', 'present'): ['the'], ('this', 'if'): ['free'], ('time', 'money'): [','], ('most', 'consuming'): ['time'], ('is', 'the'): ['probably'], ('you', 'constantly'): ['are'], ('other', ','): ['words'], ('subject', '('): ['matter'], ('that', 'they'): ['visitors'], ('your', 'an'): ['visitors'], ('how', 'rank'): ['to'], ('updating', 'fresh'): ['with'], ('engaging', 'visitors'): ['your'], ('quality', 'quantity'): ['and'], ('visitors', 'vital'): ['is'], ('world', 'cut-throat'): ['of'], (',', 'need'): ['you'], ('part', 'your'): ['of'], ('will', 'visitor'): ['dictate'], ('you', 'such'): ['.'], ('site', '.'): ['content'], ('constantly', 'with'): ['updating'], ('of', 'metrics'): ['these'], ('free', 'to'): ['time'], ('your', ','): ['site', 'visitors', 'site'], ('offer', 'visitors'): ['your'], ('of', 'as'): ['time'], ('their', 'results'): ['search'], ('visiting', 'pages'): ['multiple'], ('site', 'and'): [',', ','], ('ways', 'use'): ['.'], ('business', 'other'): ['in'], ('repeatedly', 'related'): ['on'], ('perspective', 'cover'): ['to'], ('content', 'this'): ['?'], ('time', 'content'): ['writing'], ('so', 'not'): ['why'], ('be', 'if'): ['doing'], ('more', 'will'): ['people'], ('multiple', '.'): ['pages'], (',', 'keep'): ['and'], ('with', 'textual'): ['fresh'], ('a', 'range'): ['wide'], ('the', 'of'): ['beauty'], ('term', 'traffic'): ['website'], ('are', 'updating'): ['constantly'], ('other', '.'): ['ways'], ('create', 'unique'): ['new'], ('content', 'you'): ['so'], ('search', 'such'): ['engines'], (',', 'text'): ['useful'], ('and', 'of'): ['quantity'], ('will', 'future'): ['influence'], ('sure', 'visitors'): ['that'], ('on', 'time'): ['the'], ('offering', 'visitors'): ['your'], ('and', 'quality'): ['the'], ('for', \"'sticky\"): ['securing'], ('limited', ')'): ['niche'], ('to', 'your'): ['rank', 'keep'], ('long', 'length'): ['enough'], ('in', 'ways'): ['other'], ('your', 'building'): ['website'], ('a', 'niche'): ['limited'], ('useful', 'you'): ['text'], ('visitors', 'are'): ['they'], ('both', 'these'): ['of'], ('metrics', 'a'): ['make'], ('make', 'big'): ['a'], ('enough', 'of'): ['length'], ('unwind', 'it'): [','], ('if', 'are'): ['you', 'you', 'you'], ('time', 'to'): ['needed'], ('your', 'content'): ['site'], ('google', 'monitor'): ['will'], ('fresh', 'is'): ['content'], ('of', 'website'): ['your'], ('term', 'for'): ['strategy'], ('beauty', 'this'): ['of'], ('you', 'do'): ['would'], ('the', 'time'): ['most'], (',', 'the'): ['and'], ('to', 'website'): ['your'], ('as', 'as'): ['well', 'good'], ('decides', 'to'): ['how'], ('can', 'your'): ['promote', 'use'], ('you', 'use'): ['can'], ('traffic', 'your'): ['to'], ('staying', 'a'): ['for'], ('monitor', 'traffic'): ['your'], ('more', ','): ['unique'], ('from', 'search'): ['their'], ('.', 'your'): ['offering'], ('you', 'your'): ['offer'], (')', 'you'): ['then'], ('vital', 'maintaining'): ['to'], ('to', '.'): ['you'], ('length', 'time'): ['of'], ('consuming', 'of'): ['part'], ('to', 'a'): ['maintaining', 'cover'], ('best', 'term'): ['long'], ('content', 'dictate'): ['will'], ('about', 'subject'): ['that'], ('?', 'is'): ['this'], ('down', 'the'): ['on'], ('visitors', 'unlimited'): ['an'], ('.', 'of'): ['both'], ('google', 'how'): ['decides'], ('doing', 'you'): ['if'], ('the', 'people'): ['more'], ('text', 'offer'): ['you'], ('(', 'you'): ['which'], (',', \"'s\"): ['it'], ('results', 'staying'): ['are'], ('revisiting', 'the'): ['over'], ('saving', 'keep'): ['to'], ('from', 'seo'): ['an'], ('as', 'decides'): ['google'], ('rank', 'site'): ['your'], ('site', 'business'): ['or'], ('ways', 'talk'): ['to'], ('of', 'content'): ['your', 'fresh'], ('over', 'long'): ['the'], ('textual', '.'): ['content'], ('on', 'subject'): ['related'], ('writing', 'so'): ['content'], ('time', 'well'): ['as'], ('up', 'you'): ['to'], ('they', 'sending'): ['are'], ('on', 'limited'): ['a'], ('modern', 'engines'): ['search'], ('your', 'or'): ['site', 'website'], ('a', 'difference'): ['big'], ('behavior', 'search'): ['the'], ('blog', 'if'): ['.'], ('rankings', 'your'): ['for'], ('so', 'can'): ['you'], ('the', 'and'): ['quality'], ('words', 'the'): [','], ('subject', '.'): ['matter'], ('traffic', 'make'): ['to'], ('strategy', 'securing'): ['for'], ('website', 'blog'): ['or'], ('an', 'perspective'): ['seo'], ('.', 'you'): ['or', 'if'], ('influence', 'rankings'): ['future'], ('well', 'visiting'): ['as'], ('well', 'an'): ['from'], ('marketing', 'you'): [','], ('you', 'promote'): ['can'], ('and', 'you'): ['energy'], ('you', 'focusing'): ['are', 'are'], ('search', 'are'): ['results'], ('flow', 'fresh'): ['of'], ('as', 'multiple'): ['visiting'], ('site', 'looking'): ['design'], ('or', '.'): ['blog'], ('money', 'energy'): ['and'], ('pages', 'both'): ['.'], ('keep', 'site'): ['your'], ('to', 'new'): ['create'], ('visitors', 'the'): [','], ('would', 'well'): ['do'], (\"'\", 'to'): ['traffic'], ('promote', 'site'): ['your'], ('it', 'up'): [\"'s\"], ('visitor', 'the'): ['behavior'], ('of', 'free'): ['this'], ('internet', ','): ['marketing'], ('cut', 'on'): ['down'], ('your', 'is'): ['visitors'], ('these', 'make'): ['metrics'], ('.', 'is'): ['such'], ('a', 'term'): ['long'], ('are', 'from'): ['sending'], ('engine', 'will'): ['observes'], ('the', 'unique'): ['more'], ('content', 'so'): ['.'], ('and', 'revisiting'): ['keep'], ('unique', 'useful'): [','], ('focusing', 'a'): ['on'], ('dictate', 'behavior'): ['visitor'], ('the', 'haul'): ['long'], ('fresh', 'content'): ['textual'], ('the', 'long'): ['best'], ('for', 'site'): ['your'], ('future', 'for'): ['rankings'], ('good', 'it'): ['as'], ('make', 'that'): ['sure'], ('present', 'of'): ['world'], (\"'re\", 'to'): ['saving'], ('sending', 'their'): ['from'], ('niche', 'then'): [')'], ('do', 'from'): ['well'], ('haul', 'offering'): ['.'], ('relax', 'unwind'): ['and'], ('to', 'about'): ['talk'], ('is', 'best'): ['the'], ('.', 'the'): ['use'], ('probably', 'most'): ['the'], ('your', 'to'): ['traffic'], ('related', 'matter'): ['subject'], ('website', 'process'): ['building'], ('building', '.'): ['process'], ('range', 'different'): ['of'], ('the', 'behavior'): ['visitor'], ('energy', \"'re\"): ['you'], ('keep', 'over'): ['revisiting'], ('of', 'internet'): ['cut-throat'], ('people', 'stay'): ['will'], ('.', 'why'): ['so'], ('then', 'would'): ['you'], ('different', 'to'): ['ways'], ('long', 'strategy'): ['term'], ('are', 'for'): ['staying'], ('design', 'as'): ['looking'], ('are', 'repeatedly'): ['focusing'], ('unlimited', 'of'): ['flow'], ('time', 'relax'): ['to'], ('you', 'saving'): [\"'re\"], ('an', 'flow'): ['unlimited'], ('focusing', 'on'): ['repeatedly'], ('and', ','): ['unwind'], ('website', '.'): ['traffic'], ('securing', \"'\"): [\"'sticky\"], ('save', 'writing'): ['time'], ('of', 'ways'): ['different'], ('which', 'should'): ['you'], ('a', 'enough'): ['long'], ('.', 'more'): ['the'], ('as', 'will'): ['google'], (',', 'and'): ['money'], ('it', '.'): ['can'], (',', 'other'): ['in'], ('big', 'as'): ['difference'], ('the', 'you'): ['help'], ('for', 'long'): ['a'], ('you', '.'): ['get'], ('free', 'you'): ['if'], ('engines', 'as'): ['such'], ('cut-throat', 'marketing'): ['internet'], ('.', 'search'): ['modern'], ('maintaining', 'long'): ['a'], ('seo', 'to'): ['perspective'], ('the', 'engine'): ['search'], ('your', 'design'): ['site'], ('to', 'sure'): ['make'], ('unique', '?'): ['content'], ('or', 'in'): ['business'], ('long', 'website'): ['term'], ('matter', 'which'): ['('], ('as', 'can'): ['it'], (',', 'more'): ['the'], ('your', 'will'): ['content'], ('content', 'the'): ['.', 'is']}\n"
     ]
    }
   ],
   "source": [
    "print (trigrams) "
   ]
  },
  {
   "cell_type": "code",
   "execution_count": 38,
   "metadata": {},
   "outputs": [
    {
     "name": "stdout",
     "output_type": "stream",
     "text": [
      "trigram_probabilities \n",
      " \n",
      "{('your', 'or'): {'website': 0.5, 'site': 0.5}, ('to', 'your'): {'rank': 0.5, 'keep': 0.5}, ('to', 'a'): {'cover': 0.5, 'maintaining': 0.5}, ('can', 'your'): {'use': 0.5, 'promote': 0.5}, ('of', 'content'): {'fresh': 0.5, 'your': 0.5}, ('your', ','): {'visitors': 0.3333333333333333, 'site': 0.6666666666666666}, ('as', 'as'): {'good': 0.5, 'well': 0.5}, ('.', 'you'): {'or': 0.5, 'if': 0.5}, ('content', 'the'): {'is': 0.5, '.': 0.5}}\n"
     ]
    }
   ],
   "source": [
    "trigram_probabilities = {}\n",
    "for k, words in trigrams.items():\n",
    "    # create a dictionary of word -> count\n",
    "    if len(set(words)) > 1:\n",
    "        # only do this when there are different possibilities for a middle word\n",
    "        d = {}\n",
    "        n = 0\n",
    "        for w in words:\n",
    "            if w not in d:\n",
    "                d[w] = 0\n",
    "            d[w] += 1\n",
    "            n += 1\n",
    "            \n",
    "        for w, c in d.items():\n",
    "            d[w] = float(c) / n\n",
    "        trigram_probabilities[k] = d\n",
    "\n",
    "print 'trigram_probabilities \\n \\n',trigram_probabilities"
   ]
  },
  {
   "cell_type": "code",
   "execution_count": 48,
   "metadata": {},
   "outputs": [
    {
     "name": "stdout",
     "output_type": "stream",
     "text": [
      "('\\n Original.....:', \"save time writing content so you can promote your site or business in other ways. use the time, money and energy you're saving to keep your site design looking as good as it can. or you can use your free time to relax and unwind, it's up to you. such is the beauty of this free if you are constantly updating with fresh textual content. the more unique, useful text you offer your visitors, the more people will stay on your site, and keep revisiting over the long haul. offering your visitors an unlimited flow of fresh content is the best long term strategy for securing 'sticky' traffic to your website or blog. if you are focusing repeatedly on related subject matter (which you should be doing if you are focusing on a limited niche) then you would do well from an seo perspective to cover a wide range of different ways to talk about that subject matter. \")\n",
      "\n",
      " tokens....... ['save', 'time', 'writing', 'content', 'so', 'you', 'can', 'promote', 'your', 'site', 'or', 'business', 'in', 'other', 'ways', '.', 'use', 'the', 'time', ',', 'money', 'and', 'energy', 'you', \"'re\", 'saving', 'to', 'keep', 'your', 'site', 'design', 'looking', 'as', 'good', 'as', 'it', 'can', '.', 'or', 'you', 'can', 'use', 'your', 'free', 'time', 'to', 'relax', 'and', 'unwind', ',', 'it', \"'s\", 'up', 'to', 'you', '.', 'such', 'is', 'the', 'beauty', 'of', 'this', 'free', 'if', 'you', 'are', 'constantly', 'updating', 'with', 'fresh', 'textual', 'content', '.', 'the', 'more', 'unique', ',', 'useful', 'text', 'you', 'offer', 'your', 'visitors', ',', 'the', 'more', 'people', 'will', 'stay', 'on', 'your', 'site', ',', 'and', 'keep', 'revisiting', 'over', 'the', 'long', 'haul', '.', 'offering', 'your', 'visitors', 'an', 'unlimited', 'flow', 'of', 'fresh', 'content', 'is', 'the', 'best', 'long', 'term', 'strategy', 'for', 'securing', \"'sticky\", \"'\", 'traffic', 'to', 'your', 'website', 'or', 'blog', '.', 'if', 'you', 'are', 'focusing', 'repeatedly', 'on', 'related', 'subject', 'matter', '(', 'which', 'you', 'should', 'be', 'doing', 'if', 'you', 'are', 'focusing', 'on', 'a', 'limited', 'niche', ')', 'then', 'you', 'would', 'do', 'well', 'from', 'an', 'seo', 'perspective', 'to', 'cover', 'a', 'wide', 'range', 'of', 'different', 'ways', 'to', 'talk', 'about', 'that', 'subject', 'matter', '.'] \n",
      "\n",
      "w..... site \n",
      "\n",
      "w..... or \n",
      "\n",
      "w..... promote \n",
      "\n",
      "\n",
      " \n",
      " Spun::::::::::\n",
      "save time writing content so you can promote your site or business in other ways. use the time, money and energy you're saving to keep your site design looking as good as it can. or you can promote your free time to relax and unwind, it's up to you. such is the beauty of this free if you are constantly updating with fresh textual content. the more unique, useful text you offer your visitors, the more people will stay on your site, and keep revisiting over the long haul. offering your visitors an unlimited flow of fresh content is the best long term strategy for securing'sticky' traffic to your website or blog. if you are focusing repeatedly on related subject matter ( which you should be doing if you are focusing on a limited niche ) then you would do well from an seo perspective to cover a wide range of different ways to talk about that subject matter.\n"
     ]
    }
   ],
   "source": [
    "def random_sample(d):\n",
    "    # choose a random sample from dictionary where values are the probabilities\n",
    "    r = random.random()\n",
    "    cumulative = 0\n",
    "    for w, p in d.items():\n",
    "        cumulative += p\n",
    "        if r < cumulative:\n",
    "            return w\n",
    "\n",
    "\n",
    "def test_spinner():\n",
    "    para = random.choice(input_data_list)\n",
    "    s = para.lower()\n",
    "    print (\"\\n Original.....:\", s)\n",
    "    tokens = nltk.tokenize.word_tokenize(s)\n",
    "    print '\\n tokens.......',tokens,'\\n'\n",
    "    for i in range(len(tokens) - 2):\n",
    "        if random.random() < 0.2: # 20% chance of replacement\n",
    "            k = (tokens[i], tokens[i+2])         \n",
    "            if k in trigram_probabilities:\n",
    "                w = random_sample(trigram_probabilities[k])\n",
    "                print 'w.....',w,'\\n'\n",
    "                tokens[i+1] = w\n",
    "    print (\"\\n \\n Spun::::::::::\")\n",
    "    print (\" \".join(tokens).replace(\" .\", \".\").replace(\" '\", \"'\").replace(\" ,\", \",\").replace(\"$ \", \"$\").replace(\" !\", \"!\"))\n",
    "\n",
    "test_spinner()"
   ]
  },
  {
   "cell_type": "code",
   "execution_count": null,
   "metadata": {},
   "outputs": [],
   "source": []
  }
 ],
 "metadata": {
  "kernelspec": {
   "display_name": "Python 2",
   "language": "python",
   "name": "python2"
  },
  "language_info": {
   "codemirror_mode": {
    "name": "ipython",
    "version": 2
   },
   "file_extension": ".py",
   "mimetype": "text/x-python",
   "name": "python",
   "nbconvert_exporter": "python",
   "pygments_lexer": "ipython2",
   "version": "2.7.11"
  }
 },
 "nbformat": 4,
 "nbformat_minor": 2
}
